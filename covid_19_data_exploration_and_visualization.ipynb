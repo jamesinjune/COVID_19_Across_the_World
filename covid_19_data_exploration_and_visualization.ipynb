{
  "metadata": {
    "kernelspec": {
      "name": "python3",
      "display_name": "Python 3",
      "language": "python"
    },
    "language_info": {
      "name": "python",
      "version": "3.10.14",
      "mimetype": "text/x-python",
      "codemirror_mode": {
        "name": "ipython",
        "version": 3
      },
      "pygments_lexer": "ipython3",
      "nbconvert_exporter": "python",
      "file_extension": ".py"
    },
    "kaggle": {
      "accelerator": "none",
      "dataSources": [
        {
          "sourceId": 9235309,
          "sourceType": "datasetVersion",
          "datasetId": 5586151
        }
      ],
      "dockerImageVersionId": 30761,
      "isInternetEnabled": false,
      "language": "python",
      "sourceType": "notebook",
      "isGpuEnabled": false
    },
    "colab": {
      "provenance": []
    }
  },
  "nbformat_minor": 0,
  "nbformat": 4,
  "cells": [
    {
      "cell_type": "markdown",
      "source": [
        "# COVID-19 Data Exploration (Global and Country-Level)\n",
        "Exploration of various COVID-19 metrics, including cases, deaths, recoveries, vaccinations, stringency index, etc.\n",
        "\n",
        "---\n",
        "## Project Overview\n",
        "This exploration aims to visually demonstrate the spread of COVID-19 over the first 2-3 years of the pandemic, as well as explore key metrics on both global and country-levels.\n",
        "\n",
        "### Datasets (GitHub links):\n",
        "- [Country-Level Dataset](https://github.com/jamesinjune/COVID_19_Data_Exploration/blob/main/visualization_data/covid_daily_country.zip)\n",
        "- [Global Dataset](https://github.com/jamesinjune/COVID_19_Data_Exploration/blob/main/visualization_data/covid_daily_global.csv)\n",
        "\n",
        "### Data Sources and Collection:\n",
        "- Raw data can be found [here]().\n",
        "- Data cleaning notebooks can be found [here](https://github.com/jamesinjune/COVID_19_Data_Exploration/tree/main/notebooks).\n",
        "- Original data sources are as follows:\n",
        "    - https://github.com/CSSEGISandData/COVID-19/tree/master/csse_covid_19_data/csse_covid_19_time_series\n",
        "    - https://github.com/owid/covid-19-data/blob/master/public/data/vaccinations/vaccinations.csv\n",
        "    - https://github.com/OxCGRT/covid-policy-tracker/blob/master/data/timeseries/stringency_index_avg.csv\n",
        "    - https://data.worldbank.org/indicator/SP.POP.TOTL\n",
        "    - https://hdr.undp.org/data-center/documentation-and-downloads"
      ],
      "metadata": {
        "id": "nm0RlP6X0MX0"
      }
    },
    {
      "cell_type": "markdown",
      "source": [
        "### Acknowledgements:\n",
        "- Concept and visualizations inspired by [this notebook](https://www.kaggle.com/code/imdevskp/covid-19-analysis-visualization-comparisons/notebook) on Kaggle. However, this project delves deeper into examining data from individual countries, as well as various factors at play in affecting the spread of COVID across the world."
      ],
      "metadata": {
        "id": "iY9XSKvK0MX3"
      }
    },
    {
      "cell_type": "markdown",
      "source": [
        "### Importing Libraries:"
      ],
      "metadata": {
        "id": "V__kixF20MX4"
      }
    },
    {
      "cell_type": "code",
      "source": [
        "import ipywidgets as widgets\n",
        "import os\n",
        "import pandas as pd\n",
        "import plotly.express as px\n",
        "import plotly.graph_objs as go\n",
        "import plotly.offline as pyo\n",
        "import seaborn as sns\n",
        "import wget\n",
        "import zipfile\n",
        "\n",
        "from datetime import datetime\n",
        "from datetime import timedelta\n",
        "from matplotlib import pyplot as plt\n",
        "from matplotlib import ticker as ticker\n",
        "from plotly.subplots import make_subplots\n",
        "\n",
        "pyo.init_notebook_mode(connected=True)"
      ],
      "metadata": {
        "execution": {
          "iopub.status.busy": "2024-08-24T23:34:29.891094Z",
          "iopub.execute_input": "2024-08-24T23:34:29.891520Z",
          "iopub.status.idle": "2024-08-24T23:34:32.784027Z",
          "shell.execute_reply.started": "2024-08-24T23:34:29.891476Z",
          "shell.execute_reply": "2024-08-24T23:34:32.782845Z"
        },
        "trusted": true,
        "colab": {
          "base_uri": "https://localhost:8080/",
          "height": 17
        },
        "id": "3oz8o6hS0MX4",
        "outputId": "59562a73-6cab-44f5-891d-386e2cf5a32c"
      },
      "execution_count": 1,
      "outputs": [
        {
          "output_type": "display_data",
          "data": {
            "text/html": [
              "        <script type=\"text/javascript\">\n",
              "        window.PlotlyConfig = {MathJaxConfig: 'local'};\n",
              "        if (window.MathJax && window.MathJax.Hub && window.MathJax.Hub.Config) {window.MathJax.Hub.Config({SVG: {font: \"STIX-Web\"}});}\n",
              "        if (typeof require !== 'undefined') {\n",
              "        require.undef(\"plotly\");\n",
              "        requirejs.config({\n",
              "            paths: {\n",
              "                'plotly': ['https://cdn.plot.ly/plotly-2.24.1.min']\n",
              "            }\n",
              "        });\n",
              "        require(['plotly'], function(Plotly) {\n",
              "            window._Plotly = Plotly;\n",
              "        });\n",
              "        }\n",
              "        </script>\n",
              "        "
            ]
          },
          "metadata": {}
        }
      ]
    },
    {
      "cell_type": "code",
      "source": [
        "sns.set()\n",
        "sns.set_palette(\"colorblind\")"
      ],
      "metadata": {
        "execution": {
          "iopub.status.busy": "2024-08-24T23:34:32.786045Z",
          "iopub.execute_input": "2024-08-24T23:34:32.786410Z",
          "iopub.status.idle": "2024-08-24T23:34:32.796321Z",
          "shell.execute_reply.started": "2024-08-24T23:34:32.786373Z",
          "shell.execute_reply": "2024-08-24T23:34:32.793632Z"
        },
        "trusted": true,
        "id": "huO8rIsX0MX6"
      },
      "execution_count": 2,
      "outputs": []
    },
    {
      "cell_type": "markdown",
      "source": [
        "# 1. Load Datasets"
      ],
      "metadata": {
        "id": "Bf__8XVA0MX6"
      }
    },
    {
      "cell_type": "code",
      "source": [
        "!pip install wget"
      ],
      "metadata": {
        "colab": {
          "base_uri": "https://localhost:8080/"
        },
        "id": "buPbDXwE47sP",
        "outputId": "4aa59e50-f703-4704-902a-2fd45e533c6e"
      },
      "execution_count": 6,
      "outputs": [
        {
          "output_type": "stream",
          "name": "stdout",
          "text": [
            "Collecting wget\n",
            "  Downloading wget-3.2.zip (10 kB)\n",
            "  Preparing metadata (setup.py) ... \u001b[?25l\u001b[?25hdone\n",
            "Building wheels for collected packages: wget\n",
            "  Building wheel for wget (setup.py) ... \u001b[?25l\u001b[?25hdone\n",
            "  Created wheel for wget: filename=wget-3.2-py3-none-any.whl size=9656 sha256=c773579599c57bc16c626f7f1c7dfd6402d532a0f8bf151a940d40f2ad836262\n",
            "  Stored in directory: /root/.cache/pip/wheels/8b/f1/7f/5c94f0a7a505ca1c81cd1d9208ae2064675d97582078e6c769\n",
            "Successfully built wget\n",
            "Installing collected packages: wget\n",
            "Successfully installed wget-3.2\n"
          ]
        }
      ]
    },
    {
      "cell_type": "code",
      "source": [
        "# Retrieving covid_daily_country.zip from Github\n",
        "zip_url = \"https://github.com/jamesinjune/COVID_19_Data_Exploration/raw/main/visualization_data/covid_daily_country.zip\"\n",
        "wget.download(zip_url, 'covid_daily_country.zip')\n",
        "\n",
        "with zipfile.ZipFile('covid_daily_country.zip', 'r') as zip_ref:\n",
        "    zip_ref.extractall('/content/')"
      ],
      "metadata": {
        "id": "KUtKET150yqA"
      },
      "execution_count": 15,
      "outputs": []
    },
    {
      "cell_type": "code",
      "source": [
        "country_path_import = r\"/content/covid_daily_country.csv\"\n",
        "df_country_csv = pd.read_csv(country_path_import, encoding=\"latin-1\")\n",
        "\n",
        "global_path_import = r\"https://github.com/jamesinjune/COVID_19_Data_Exploration/raw/main/visualization_data/covid_daily_global.csv\"\n",
        "df_global_csv = pd.read_csv(global_path_import)"
      ],
      "metadata": {
        "execution": {
          "iopub.status.busy": "2024-08-24T23:34:32.797992Z",
          "iopub.execute_input": "2024-08-24T23:34:32.798425Z",
          "iopub.status.idle": "2024-08-24T23:34:34.736109Z",
          "shell.execute_reply.started": "2024-08-24T23:34:32.798374Z",
          "shell.execute_reply": "2024-08-24T23:34:34.734951Z"
        },
        "trusted": true,
        "id": "-g3cZdbj0MX6"
      },
      "execution_count": 16,
      "outputs": []
    },
    {
      "cell_type": "code",
      "source": [
        "df_country = df_country_csv.copy()\n",
        "df_global = df_global_csv.copy()"
      ],
      "metadata": {
        "execution": {
          "iopub.status.busy": "2024-08-24T23:34:34.739144Z",
          "iopub.execute_input": "2024-08-24T23:34:34.739606Z",
          "iopub.status.idle": "2024-08-24T23:34:34.757717Z",
          "shell.execute_reply.started": "2024-08-24T23:34:34.739553Z",
          "shell.execute_reply": "2024-08-24T23:34:34.756622Z"
        },
        "trusted": true,
        "id": "AdrIn7rd0MX7"
      },
      "execution_count": 17,
      "outputs": []
    },
    {
      "cell_type": "code",
      "source": [
        "df_country.head()"
      ],
      "metadata": {
        "execution": {
          "iopub.status.busy": "2024-08-24T23:34:34.759215Z",
          "iopub.execute_input": "2024-08-24T23:34:34.759582Z",
          "iopub.status.idle": "2024-08-24T23:34:34.806709Z",
          "shell.execute_reply.started": "2024-08-24T23:34:34.759542Z",
          "shell.execute_reply": "2024-08-24T23:34:34.805465Z"
        },
        "trusted": true,
        "colab": {
          "base_uri": "https://localhost:8080/",
          "height": 342
        },
        "id": "VNAW_QNQ0MX7",
        "outputId": "ca6d7f91-3a6b-4edc-d28d-bd6945af92b1"
      },
      "execution_count": 18,
      "outputs": [
        {
          "output_type": "execute_result",
          "data": {
            "text/plain": [
              "       country        date  cases  new_cases_smoothed  new_cases_growth_rate  \\\n",
              "0  Afghanistan  2020-01-22      0                   0                    NaN   \n",
              "1  Afghanistan  2020-01-23      0                   0                    NaN   \n",
              "2  Afghanistan  2020-01-24      0                   0                    NaN   \n",
              "3  Afghanistan  2020-01-25      0                   0                    NaN   \n",
              "4  Afghanistan  2020-01-26      0                   0                    NaN   \n",
              "\n",
              "   deaths  new_deaths_smoothed  recovered  new_recovered_smoothed  \\\n",
              "0     0.0                  0.0        0.0                     NaN   \n",
              "1     0.0                  0.0        0.0                     0.0   \n",
              "2     0.0                  0.0        0.0                     0.0   \n",
              "3     0.0                  0.0        0.0                     0.0   \n",
              "4     0.0                  0.0        0.0                     0.0   \n",
              "\n",
              "   people_vaccinated  ...  population  stringency_value  hdi_value  active  \\\n",
              "0                NaN  ...    38972232               0.0      0.488     0.0   \n",
              "1                NaN  ...    38972232               0.0      0.488     0.0   \n",
              "2                NaN  ...    38972232               0.0      0.488     0.0   \n",
              "3                NaN  ...    38972232               0.0      0.488     0.0   \n",
              "4                NaN  ...    38972232               0.0      0.488     0.0   \n",
              "\n",
              "   infection_rate  people_vaccinated_rate  fully_vaccinated_rate  \\\n",
              "0             0.0                     NaN                    NaN   \n",
              "1             0.0                     NaN                    NaN   \n",
              "2             0.0                     NaN                    NaN   \n",
              "3             0.0                     NaN                    NaN   \n",
              "4             0.0                     NaN                    NaN   \n",
              "\n",
              "   case_incidence_rate  case_fatality_rate  active_case_rate  \n",
              "0                  0.0                 NaN               0.0  \n",
              "1                  0.0                 NaN               0.0  \n",
              "2                  0.0                 NaN               0.0  \n",
              "3                  0.0                 NaN               0.0  \n",
              "4                  0.0                 NaN               0.0  \n",
              "\n",
              "[5 rows x 27 columns]"
            ],
            "text/html": [
              "\n",
              "  <div id=\"df-b5688e8f-de9f-48ec-ad9f-851b2fefc325\" class=\"colab-df-container\">\n",
              "    <div>\n",
              "<style scoped>\n",
              "    .dataframe tbody tr th:only-of-type {\n",
              "        vertical-align: middle;\n",
              "    }\n",
              "\n",
              "    .dataframe tbody tr th {\n",
              "        vertical-align: top;\n",
              "    }\n",
              "\n",
              "    .dataframe thead th {\n",
              "        text-align: right;\n",
              "    }\n",
              "</style>\n",
              "<table border=\"1\" class=\"dataframe\">\n",
              "  <thead>\n",
              "    <tr style=\"text-align: right;\">\n",
              "      <th></th>\n",
              "      <th>country</th>\n",
              "      <th>date</th>\n",
              "      <th>cases</th>\n",
              "      <th>new_cases_smoothed</th>\n",
              "      <th>new_cases_growth_rate</th>\n",
              "      <th>deaths</th>\n",
              "      <th>new_deaths_smoothed</th>\n",
              "      <th>recovered</th>\n",
              "      <th>new_recovered_smoothed</th>\n",
              "      <th>people_vaccinated</th>\n",
              "      <th>...</th>\n",
              "      <th>population</th>\n",
              "      <th>stringency_value</th>\n",
              "      <th>hdi_value</th>\n",
              "      <th>active</th>\n",
              "      <th>infection_rate</th>\n",
              "      <th>people_vaccinated_rate</th>\n",
              "      <th>fully_vaccinated_rate</th>\n",
              "      <th>case_incidence_rate</th>\n",
              "      <th>case_fatality_rate</th>\n",
              "      <th>active_case_rate</th>\n",
              "    </tr>\n",
              "  </thead>\n",
              "  <tbody>\n",
              "    <tr>\n",
              "      <th>0</th>\n",
              "      <td>Afghanistan</td>\n",
              "      <td>2020-01-22</td>\n",
              "      <td>0</td>\n",
              "      <td>0</td>\n",
              "      <td>NaN</td>\n",
              "      <td>0.0</td>\n",
              "      <td>0.0</td>\n",
              "      <td>0.0</td>\n",
              "      <td>NaN</td>\n",
              "      <td>NaN</td>\n",
              "      <td>...</td>\n",
              "      <td>38972232</td>\n",
              "      <td>0.0</td>\n",
              "      <td>0.488</td>\n",
              "      <td>0.0</td>\n",
              "      <td>0.0</td>\n",
              "      <td>NaN</td>\n",
              "      <td>NaN</td>\n",
              "      <td>0.0</td>\n",
              "      <td>NaN</td>\n",
              "      <td>0.0</td>\n",
              "    </tr>\n",
              "    <tr>\n",
              "      <th>1</th>\n",
              "      <td>Afghanistan</td>\n",
              "      <td>2020-01-23</td>\n",
              "      <td>0</td>\n",
              "      <td>0</td>\n",
              "      <td>NaN</td>\n",
              "      <td>0.0</td>\n",
              "      <td>0.0</td>\n",
              "      <td>0.0</td>\n",
              "      <td>0.0</td>\n",
              "      <td>NaN</td>\n",
              "      <td>...</td>\n",
              "      <td>38972232</td>\n",
              "      <td>0.0</td>\n",
              "      <td>0.488</td>\n",
              "      <td>0.0</td>\n",
              "      <td>0.0</td>\n",
              "      <td>NaN</td>\n",
              "      <td>NaN</td>\n",
              "      <td>0.0</td>\n",
              "      <td>NaN</td>\n",
              "      <td>0.0</td>\n",
              "    </tr>\n",
              "    <tr>\n",
              "      <th>2</th>\n",
              "      <td>Afghanistan</td>\n",
              "      <td>2020-01-24</td>\n",
              "      <td>0</td>\n",
              "      <td>0</td>\n",
              "      <td>NaN</td>\n",
              "      <td>0.0</td>\n",
              "      <td>0.0</td>\n",
              "      <td>0.0</td>\n",
              "      <td>0.0</td>\n",
              "      <td>NaN</td>\n",
              "      <td>...</td>\n",
              "      <td>38972232</td>\n",
              "      <td>0.0</td>\n",
              "      <td>0.488</td>\n",
              "      <td>0.0</td>\n",
              "      <td>0.0</td>\n",
              "      <td>NaN</td>\n",
              "      <td>NaN</td>\n",
              "      <td>0.0</td>\n",
              "      <td>NaN</td>\n",
              "      <td>0.0</td>\n",
              "    </tr>\n",
              "    <tr>\n",
              "      <th>3</th>\n",
              "      <td>Afghanistan</td>\n",
              "      <td>2020-01-25</td>\n",
              "      <td>0</td>\n",
              "      <td>0</td>\n",
              "      <td>NaN</td>\n",
              "      <td>0.0</td>\n",
              "      <td>0.0</td>\n",
              "      <td>0.0</td>\n",
              "      <td>0.0</td>\n",
              "      <td>NaN</td>\n",
              "      <td>...</td>\n",
              "      <td>38972232</td>\n",
              "      <td>0.0</td>\n",
              "      <td>0.488</td>\n",
              "      <td>0.0</td>\n",
              "      <td>0.0</td>\n",
              "      <td>NaN</td>\n",
              "      <td>NaN</td>\n",
              "      <td>0.0</td>\n",
              "      <td>NaN</td>\n",
              "      <td>0.0</td>\n",
              "    </tr>\n",
              "    <tr>\n",
              "      <th>4</th>\n",
              "      <td>Afghanistan</td>\n",
              "      <td>2020-01-26</td>\n",
              "      <td>0</td>\n",
              "      <td>0</td>\n",
              "      <td>NaN</td>\n",
              "      <td>0.0</td>\n",
              "      <td>0.0</td>\n",
              "      <td>0.0</td>\n",
              "      <td>0.0</td>\n",
              "      <td>NaN</td>\n",
              "      <td>...</td>\n",
              "      <td>38972232</td>\n",
              "      <td>0.0</td>\n",
              "      <td>0.488</td>\n",
              "      <td>0.0</td>\n",
              "      <td>0.0</td>\n",
              "      <td>NaN</td>\n",
              "      <td>NaN</td>\n",
              "      <td>0.0</td>\n",
              "      <td>NaN</td>\n",
              "      <td>0.0</td>\n",
              "    </tr>\n",
              "  </tbody>\n",
              "</table>\n",
              "<p>5 rows × 27 columns</p>\n",
              "</div>\n",
              "    <div class=\"colab-df-buttons\">\n",
              "\n",
              "  <div class=\"colab-df-container\">\n",
              "    <button class=\"colab-df-convert\" onclick=\"convertToInteractive('df-b5688e8f-de9f-48ec-ad9f-851b2fefc325')\"\n",
              "            title=\"Convert this dataframe to an interactive table.\"\n",
              "            style=\"display:none;\">\n",
              "\n",
              "  <svg xmlns=\"http://www.w3.org/2000/svg\" height=\"24px\" viewBox=\"0 -960 960 960\">\n",
              "    <path d=\"M120-120v-720h720v720H120Zm60-500h600v-160H180v160Zm220 220h160v-160H400v160Zm0 220h160v-160H400v160ZM180-400h160v-160H180v160Zm440 0h160v-160H620v160ZM180-180h160v-160H180v160Zm440 0h160v-160H620v160Z\"/>\n",
              "  </svg>\n",
              "    </button>\n",
              "\n",
              "  <style>\n",
              "    .colab-df-container {\n",
              "      display:flex;\n",
              "      gap: 12px;\n",
              "    }\n",
              "\n",
              "    .colab-df-convert {\n",
              "      background-color: #E8F0FE;\n",
              "      border: none;\n",
              "      border-radius: 50%;\n",
              "      cursor: pointer;\n",
              "      display: none;\n",
              "      fill: #1967D2;\n",
              "      height: 32px;\n",
              "      padding: 0 0 0 0;\n",
              "      width: 32px;\n",
              "    }\n",
              "\n",
              "    .colab-df-convert:hover {\n",
              "      background-color: #E2EBFA;\n",
              "      box-shadow: 0px 1px 2px rgba(60, 64, 67, 0.3), 0px 1px 3px 1px rgba(60, 64, 67, 0.15);\n",
              "      fill: #174EA6;\n",
              "    }\n",
              "\n",
              "    .colab-df-buttons div {\n",
              "      margin-bottom: 4px;\n",
              "    }\n",
              "\n",
              "    [theme=dark] .colab-df-convert {\n",
              "      background-color: #3B4455;\n",
              "      fill: #D2E3FC;\n",
              "    }\n",
              "\n",
              "    [theme=dark] .colab-df-convert:hover {\n",
              "      background-color: #434B5C;\n",
              "      box-shadow: 0px 1px 3px 1px rgba(0, 0, 0, 0.15);\n",
              "      filter: drop-shadow(0px 1px 2px rgba(0, 0, 0, 0.3));\n",
              "      fill: #FFFFFF;\n",
              "    }\n",
              "  </style>\n",
              "\n",
              "    <script>\n",
              "      const buttonEl =\n",
              "        document.querySelector('#df-b5688e8f-de9f-48ec-ad9f-851b2fefc325 button.colab-df-convert');\n",
              "      buttonEl.style.display =\n",
              "        google.colab.kernel.accessAllowed ? 'block' : 'none';\n",
              "\n",
              "      async function convertToInteractive(key) {\n",
              "        const element = document.querySelector('#df-b5688e8f-de9f-48ec-ad9f-851b2fefc325');\n",
              "        const dataTable =\n",
              "          await google.colab.kernel.invokeFunction('convertToInteractive',\n",
              "                                                    [key], {});\n",
              "        if (!dataTable) return;\n",
              "\n",
              "        const docLinkHtml = 'Like what you see? Visit the ' +\n",
              "          '<a target=\"_blank\" href=https://colab.research.google.com/notebooks/data_table.ipynb>data table notebook</a>'\n",
              "          + ' to learn more about interactive tables.';\n",
              "        element.innerHTML = '';\n",
              "        dataTable['output_type'] = 'display_data';\n",
              "        await google.colab.output.renderOutput(dataTable, element);\n",
              "        const docLink = document.createElement('div');\n",
              "        docLink.innerHTML = docLinkHtml;\n",
              "        element.appendChild(docLink);\n",
              "      }\n",
              "    </script>\n",
              "  </div>\n",
              "\n",
              "\n",
              "<div id=\"df-8fb679b4-a1ef-4e06-99f7-1ebaa655f025\">\n",
              "  <button class=\"colab-df-quickchart\" onclick=\"quickchart('df-8fb679b4-a1ef-4e06-99f7-1ebaa655f025')\"\n",
              "            title=\"Suggest charts\"\n",
              "            style=\"display:none;\">\n",
              "\n",
              "<svg xmlns=\"http://www.w3.org/2000/svg\" height=\"24px\"viewBox=\"0 0 24 24\"\n",
              "     width=\"24px\">\n",
              "    <g>\n",
              "        <path d=\"M19 3H5c-1.1 0-2 .9-2 2v14c0 1.1.9 2 2 2h14c1.1 0 2-.9 2-2V5c0-1.1-.9-2-2-2zM9 17H7v-7h2v7zm4 0h-2V7h2v10zm4 0h-2v-4h2v4z\"/>\n",
              "    </g>\n",
              "</svg>\n",
              "  </button>\n",
              "\n",
              "<style>\n",
              "  .colab-df-quickchart {\n",
              "      --bg-color: #E8F0FE;\n",
              "      --fill-color: #1967D2;\n",
              "      --hover-bg-color: #E2EBFA;\n",
              "      --hover-fill-color: #174EA6;\n",
              "      --disabled-fill-color: #AAA;\n",
              "      --disabled-bg-color: #DDD;\n",
              "  }\n",
              "\n",
              "  [theme=dark] .colab-df-quickchart {\n",
              "      --bg-color: #3B4455;\n",
              "      --fill-color: #D2E3FC;\n",
              "      --hover-bg-color: #434B5C;\n",
              "      --hover-fill-color: #FFFFFF;\n",
              "      --disabled-bg-color: #3B4455;\n",
              "      --disabled-fill-color: #666;\n",
              "  }\n",
              "\n",
              "  .colab-df-quickchart {\n",
              "    background-color: var(--bg-color);\n",
              "    border: none;\n",
              "    border-radius: 50%;\n",
              "    cursor: pointer;\n",
              "    display: none;\n",
              "    fill: var(--fill-color);\n",
              "    height: 32px;\n",
              "    padding: 0;\n",
              "    width: 32px;\n",
              "  }\n",
              "\n",
              "  .colab-df-quickchart:hover {\n",
              "    background-color: var(--hover-bg-color);\n",
              "    box-shadow: 0 1px 2px rgba(60, 64, 67, 0.3), 0 1px 3px 1px rgba(60, 64, 67, 0.15);\n",
              "    fill: var(--button-hover-fill-color);\n",
              "  }\n",
              "\n",
              "  .colab-df-quickchart-complete:disabled,\n",
              "  .colab-df-quickchart-complete:disabled:hover {\n",
              "    background-color: var(--disabled-bg-color);\n",
              "    fill: var(--disabled-fill-color);\n",
              "    box-shadow: none;\n",
              "  }\n",
              "\n",
              "  .colab-df-spinner {\n",
              "    border: 2px solid var(--fill-color);\n",
              "    border-color: transparent;\n",
              "    border-bottom-color: var(--fill-color);\n",
              "    animation:\n",
              "      spin 1s steps(1) infinite;\n",
              "  }\n",
              "\n",
              "  @keyframes spin {\n",
              "    0% {\n",
              "      border-color: transparent;\n",
              "      border-bottom-color: var(--fill-color);\n",
              "      border-left-color: var(--fill-color);\n",
              "    }\n",
              "    20% {\n",
              "      border-color: transparent;\n",
              "      border-left-color: var(--fill-color);\n",
              "      border-top-color: var(--fill-color);\n",
              "    }\n",
              "    30% {\n",
              "      border-color: transparent;\n",
              "      border-left-color: var(--fill-color);\n",
              "      border-top-color: var(--fill-color);\n",
              "      border-right-color: var(--fill-color);\n",
              "    }\n",
              "    40% {\n",
              "      border-color: transparent;\n",
              "      border-right-color: var(--fill-color);\n",
              "      border-top-color: var(--fill-color);\n",
              "    }\n",
              "    60% {\n",
              "      border-color: transparent;\n",
              "      border-right-color: var(--fill-color);\n",
              "    }\n",
              "    80% {\n",
              "      border-color: transparent;\n",
              "      border-right-color: var(--fill-color);\n",
              "      border-bottom-color: var(--fill-color);\n",
              "    }\n",
              "    90% {\n",
              "      border-color: transparent;\n",
              "      border-bottom-color: var(--fill-color);\n",
              "    }\n",
              "  }\n",
              "</style>\n",
              "\n",
              "  <script>\n",
              "    async function quickchart(key) {\n",
              "      const quickchartButtonEl =\n",
              "        document.querySelector('#' + key + ' button');\n",
              "      quickchartButtonEl.disabled = true;  // To prevent multiple clicks.\n",
              "      quickchartButtonEl.classList.add('colab-df-spinner');\n",
              "      try {\n",
              "        const charts = await google.colab.kernel.invokeFunction(\n",
              "            'suggestCharts', [key], {});\n",
              "      } catch (error) {\n",
              "        console.error('Error during call to suggestCharts:', error);\n",
              "      }\n",
              "      quickchartButtonEl.classList.remove('colab-df-spinner');\n",
              "      quickchartButtonEl.classList.add('colab-df-quickchart-complete');\n",
              "    }\n",
              "    (() => {\n",
              "      let quickchartButtonEl =\n",
              "        document.querySelector('#df-8fb679b4-a1ef-4e06-99f7-1ebaa655f025 button');\n",
              "      quickchartButtonEl.style.display =\n",
              "        google.colab.kernel.accessAllowed ? 'block' : 'none';\n",
              "    })();\n",
              "  </script>\n",
              "</div>\n",
              "\n",
              "    </div>\n",
              "  </div>\n"
            ],
            "application/vnd.google.colaboratory.intrinsic+json": {
              "type": "dataframe",
              "variable_name": "df_country"
            }
          },
          "metadata": {},
          "execution_count": 18
        }
      ]
    },
    {
      "cell_type": "code",
      "source": [
        "df_global.head()"
      ],
      "metadata": {
        "execution": {
          "iopub.status.busy": "2024-08-24T23:34:34.808192Z",
          "iopub.execute_input": "2024-08-24T23:34:34.808596Z",
          "iopub.status.idle": "2024-08-24T23:34:34.824555Z",
          "shell.execute_reply.started": "2024-08-24T23:34:34.808536Z",
          "shell.execute_reply": "2024-08-24T23:34:34.823444Z"
        },
        "trusted": true,
        "colab": {
          "base_uri": "https://localhost:8080/",
          "height": 206
        },
        "id": "xiDUazOR0MX7",
        "outputId": "619d5a10-775d-4411-ec17-d0f29c4aca06"
      },
      "execution_count": 19,
      "outputs": [
        {
          "output_type": "execute_result",
          "data": {
            "text/plain": [
              "         date  cases  deaths  recovered  new_cases  new_deaths  new_recovered  \\\n",
              "0  2020-01-22    557      17       30.0          0           0            NaN   \n",
              "1  2020-01-23    657      18       32.0         50           0            2.0   \n",
              "2  2020-01-24    944      26       39.0        129           3            4.0   \n",
              "3  2020-01-25   1437      42       42.0        218           6            4.0   \n",
              "4  2020-01-26   2120      56       56.0        313           8            6.0   \n",
              "\n",
              "   active  case_fatality_rate  \n",
              "0   510.0         3052.064632  \n",
              "1   607.0         2739.726027  \n",
              "2   879.0         2754.237288  \n",
              "3  1353.0         2922.755741  \n",
              "4  2008.0         2641.509434  "
            ],
            "text/html": [
              "\n",
              "  <div id=\"df-7c92f0fb-cbcf-4d1e-86a6-5c54785fe43d\" class=\"colab-df-container\">\n",
              "    <div>\n",
              "<style scoped>\n",
              "    .dataframe tbody tr th:only-of-type {\n",
              "        vertical-align: middle;\n",
              "    }\n",
              "\n",
              "    .dataframe tbody tr th {\n",
              "        vertical-align: top;\n",
              "    }\n",
              "\n",
              "    .dataframe thead th {\n",
              "        text-align: right;\n",
              "    }\n",
              "</style>\n",
              "<table border=\"1\" class=\"dataframe\">\n",
              "  <thead>\n",
              "    <tr style=\"text-align: right;\">\n",
              "      <th></th>\n",
              "      <th>date</th>\n",
              "      <th>cases</th>\n",
              "      <th>deaths</th>\n",
              "      <th>recovered</th>\n",
              "      <th>new_cases</th>\n",
              "      <th>new_deaths</th>\n",
              "      <th>new_recovered</th>\n",
              "      <th>active</th>\n",
              "      <th>case_fatality_rate</th>\n",
              "    </tr>\n",
              "  </thead>\n",
              "  <tbody>\n",
              "    <tr>\n",
              "      <th>0</th>\n",
              "      <td>2020-01-22</td>\n",
              "      <td>557</td>\n",
              "      <td>17</td>\n",
              "      <td>30.0</td>\n",
              "      <td>0</td>\n",
              "      <td>0</td>\n",
              "      <td>NaN</td>\n",
              "      <td>510.0</td>\n",
              "      <td>3052.064632</td>\n",
              "    </tr>\n",
              "    <tr>\n",
              "      <th>1</th>\n",
              "      <td>2020-01-23</td>\n",
              "      <td>657</td>\n",
              "      <td>18</td>\n",
              "      <td>32.0</td>\n",
              "      <td>50</td>\n",
              "      <td>0</td>\n",
              "      <td>2.0</td>\n",
              "      <td>607.0</td>\n",
              "      <td>2739.726027</td>\n",
              "    </tr>\n",
              "    <tr>\n",
              "      <th>2</th>\n",
              "      <td>2020-01-24</td>\n",
              "      <td>944</td>\n",
              "      <td>26</td>\n",
              "      <td>39.0</td>\n",
              "      <td>129</td>\n",
              "      <td>3</td>\n",
              "      <td>4.0</td>\n",
              "      <td>879.0</td>\n",
              "      <td>2754.237288</td>\n",
              "    </tr>\n",
              "    <tr>\n",
              "      <th>3</th>\n",
              "      <td>2020-01-25</td>\n",
              "      <td>1437</td>\n",
              "      <td>42</td>\n",
              "      <td>42.0</td>\n",
              "      <td>218</td>\n",
              "      <td>6</td>\n",
              "      <td>4.0</td>\n",
              "      <td>1353.0</td>\n",
              "      <td>2922.755741</td>\n",
              "    </tr>\n",
              "    <tr>\n",
              "      <th>4</th>\n",
              "      <td>2020-01-26</td>\n",
              "      <td>2120</td>\n",
              "      <td>56</td>\n",
              "      <td>56.0</td>\n",
              "      <td>313</td>\n",
              "      <td>8</td>\n",
              "      <td>6.0</td>\n",
              "      <td>2008.0</td>\n",
              "      <td>2641.509434</td>\n",
              "    </tr>\n",
              "  </tbody>\n",
              "</table>\n",
              "</div>\n",
              "    <div class=\"colab-df-buttons\">\n",
              "\n",
              "  <div class=\"colab-df-container\">\n",
              "    <button class=\"colab-df-convert\" onclick=\"convertToInteractive('df-7c92f0fb-cbcf-4d1e-86a6-5c54785fe43d')\"\n",
              "            title=\"Convert this dataframe to an interactive table.\"\n",
              "            style=\"display:none;\">\n",
              "\n",
              "  <svg xmlns=\"http://www.w3.org/2000/svg\" height=\"24px\" viewBox=\"0 -960 960 960\">\n",
              "    <path d=\"M120-120v-720h720v720H120Zm60-500h600v-160H180v160Zm220 220h160v-160H400v160Zm0 220h160v-160H400v160ZM180-400h160v-160H180v160Zm440 0h160v-160H620v160ZM180-180h160v-160H180v160Zm440 0h160v-160H620v160Z\"/>\n",
              "  </svg>\n",
              "    </button>\n",
              "\n",
              "  <style>\n",
              "    .colab-df-container {\n",
              "      display:flex;\n",
              "      gap: 12px;\n",
              "    }\n",
              "\n",
              "    .colab-df-convert {\n",
              "      background-color: #E8F0FE;\n",
              "      border: none;\n",
              "      border-radius: 50%;\n",
              "      cursor: pointer;\n",
              "      display: none;\n",
              "      fill: #1967D2;\n",
              "      height: 32px;\n",
              "      padding: 0 0 0 0;\n",
              "      width: 32px;\n",
              "    }\n",
              "\n",
              "    .colab-df-convert:hover {\n",
              "      background-color: #E2EBFA;\n",
              "      box-shadow: 0px 1px 2px rgba(60, 64, 67, 0.3), 0px 1px 3px 1px rgba(60, 64, 67, 0.15);\n",
              "      fill: #174EA6;\n",
              "    }\n",
              "\n",
              "    .colab-df-buttons div {\n",
              "      margin-bottom: 4px;\n",
              "    }\n",
              "\n",
              "    [theme=dark] .colab-df-convert {\n",
              "      background-color: #3B4455;\n",
              "      fill: #D2E3FC;\n",
              "    }\n",
              "\n",
              "    [theme=dark] .colab-df-convert:hover {\n",
              "      background-color: #434B5C;\n",
              "      box-shadow: 0px 1px 3px 1px rgba(0, 0, 0, 0.15);\n",
              "      filter: drop-shadow(0px 1px 2px rgba(0, 0, 0, 0.3));\n",
              "      fill: #FFFFFF;\n",
              "    }\n",
              "  </style>\n",
              "\n",
              "    <script>\n",
              "      const buttonEl =\n",
              "        document.querySelector('#df-7c92f0fb-cbcf-4d1e-86a6-5c54785fe43d button.colab-df-convert');\n",
              "      buttonEl.style.display =\n",
              "        google.colab.kernel.accessAllowed ? 'block' : 'none';\n",
              "\n",
              "      async function convertToInteractive(key) {\n",
              "        const element = document.querySelector('#df-7c92f0fb-cbcf-4d1e-86a6-5c54785fe43d');\n",
              "        const dataTable =\n",
              "          await google.colab.kernel.invokeFunction('convertToInteractive',\n",
              "                                                    [key], {});\n",
              "        if (!dataTable) return;\n",
              "\n",
              "        const docLinkHtml = 'Like what you see? Visit the ' +\n",
              "          '<a target=\"_blank\" href=https://colab.research.google.com/notebooks/data_table.ipynb>data table notebook</a>'\n",
              "          + ' to learn more about interactive tables.';\n",
              "        element.innerHTML = '';\n",
              "        dataTable['output_type'] = 'display_data';\n",
              "        await google.colab.output.renderOutput(dataTable, element);\n",
              "        const docLink = document.createElement('div');\n",
              "        docLink.innerHTML = docLinkHtml;\n",
              "        element.appendChild(docLink);\n",
              "      }\n",
              "    </script>\n",
              "  </div>\n",
              "\n",
              "\n",
              "<div id=\"df-a2937e31-e29e-44de-b85b-f00dc3841bfc\">\n",
              "  <button class=\"colab-df-quickchart\" onclick=\"quickchart('df-a2937e31-e29e-44de-b85b-f00dc3841bfc')\"\n",
              "            title=\"Suggest charts\"\n",
              "            style=\"display:none;\">\n",
              "\n",
              "<svg xmlns=\"http://www.w3.org/2000/svg\" height=\"24px\"viewBox=\"0 0 24 24\"\n",
              "     width=\"24px\">\n",
              "    <g>\n",
              "        <path d=\"M19 3H5c-1.1 0-2 .9-2 2v14c0 1.1.9 2 2 2h14c1.1 0 2-.9 2-2V5c0-1.1-.9-2-2-2zM9 17H7v-7h2v7zm4 0h-2V7h2v10zm4 0h-2v-4h2v4z\"/>\n",
              "    </g>\n",
              "</svg>\n",
              "  </button>\n",
              "\n",
              "<style>\n",
              "  .colab-df-quickchart {\n",
              "      --bg-color: #E8F0FE;\n",
              "      --fill-color: #1967D2;\n",
              "      --hover-bg-color: #E2EBFA;\n",
              "      --hover-fill-color: #174EA6;\n",
              "      --disabled-fill-color: #AAA;\n",
              "      --disabled-bg-color: #DDD;\n",
              "  }\n",
              "\n",
              "  [theme=dark] .colab-df-quickchart {\n",
              "      --bg-color: #3B4455;\n",
              "      --fill-color: #D2E3FC;\n",
              "      --hover-bg-color: #434B5C;\n",
              "      --hover-fill-color: #FFFFFF;\n",
              "      --disabled-bg-color: #3B4455;\n",
              "      --disabled-fill-color: #666;\n",
              "  }\n",
              "\n",
              "  .colab-df-quickchart {\n",
              "    background-color: var(--bg-color);\n",
              "    border: none;\n",
              "    border-radius: 50%;\n",
              "    cursor: pointer;\n",
              "    display: none;\n",
              "    fill: var(--fill-color);\n",
              "    height: 32px;\n",
              "    padding: 0;\n",
              "    width: 32px;\n",
              "  }\n",
              "\n",
              "  .colab-df-quickchart:hover {\n",
              "    background-color: var(--hover-bg-color);\n",
              "    box-shadow: 0 1px 2px rgba(60, 64, 67, 0.3), 0 1px 3px 1px rgba(60, 64, 67, 0.15);\n",
              "    fill: var(--button-hover-fill-color);\n",
              "  }\n",
              "\n",
              "  .colab-df-quickchart-complete:disabled,\n",
              "  .colab-df-quickchart-complete:disabled:hover {\n",
              "    background-color: var(--disabled-bg-color);\n",
              "    fill: var(--disabled-fill-color);\n",
              "    box-shadow: none;\n",
              "  }\n",
              "\n",
              "  .colab-df-spinner {\n",
              "    border: 2px solid var(--fill-color);\n",
              "    border-color: transparent;\n",
              "    border-bottom-color: var(--fill-color);\n",
              "    animation:\n",
              "      spin 1s steps(1) infinite;\n",
              "  }\n",
              "\n",
              "  @keyframes spin {\n",
              "    0% {\n",
              "      border-color: transparent;\n",
              "      border-bottom-color: var(--fill-color);\n",
              "      border-left-color: var(--fill-color);\n",
              "    }\n",
              "    20% {\n",
              "      border-color: transparent;\n",
              "      border-left-color: var(--fill-color);\n",
              "      border-top-color: var(--fill-color);\n",
              "    }\n",
              "    30% {\n",
              "      border-color: transparent;\n",
              "      border-left-color: var(--fill-color);\n",
              "      border-top-color: var(--fill-color);\n",
              "      border-right-color: var(--fill-color);\n",
              "    }\n",
              "    40% {\n",
              "      border-color: transparent;\n",
              "      border-right-color: var(--fill-color);\n",
              "      border-top-color: var(--fill-color);\n",
              "    }\n",
              "    60% {\n",
              "      border-color: transparent;\n",
              "      border-right-color: var(--fill-color);\n",
              "    }\n",
              "    80% {\n",
              "      border-color: transparent;\n",
              "      border-right-color: var(--fill-color);\n",
              "      border-bottom-color: var(--fill-color);\n",
              "    }\n",
              "    90% {\n",
              "      border-color: transparent;\n",
              "      border-bottom-color: var(--fill-color);\n",
              "    }\n",
              "  }\n",
              "</style>\n",
              "\n",
              "  <script>\n",
              "    async function quickchart(key) {\n",
              "      const quickchartButtonEl =\n",
              "        document.querySelector('#' + key + ' button');\n",
              "      quickchartButtonEl.disabled = true;  // To prevent multiple clicks.\n",
              "      quickchartButtonEl.classList.add('colab-df-spinner');\n",
              "      try {\n",
              "        const charts = await google.colab.kernel.invokeFunction(\n",
              "            'suggestCharts', [key], {});\n",
              "      } catch (error) {\n",
              "        console.error('Error during call to suggestCharts:', error);\n",
              "      }\n",
              "      quickchartButtonEl.classList.remove('colab-df-spinner');\n",
              "      quickchartButtonEl.classList.add('colab-df-quickchart-complete');\n",
              "    }\n",
              "    (() => {\n",
              "      let quickchartButtonEl =\n",
              "        document.querySelector('#df-a2937e31-e29e-44de-b85b-f00dc3841bfc button');\n",
              "      quickchartButtonEl.style.display =\n",
              "        google.colab.kernel.accessAllowed ? 'block' : 'none';\n",
              "    })();\n",
              "  </script>\n",
              "</div>\n",
              "\n",
              "    </div>\n",
              "  </div>\n"
            ],
            "application/vnd.google.colaboratory.intrinsic+json": {
              "type": "dataframe",
              "variable_name": "df_global",
              "summary": "{\n  \"name\": \"df_global\",\n  \"rows\": 1143,\n  \"fields\": [\n    {\n      \"column\": \"date\",\n      \"properties\": {\n        \"dtype\": \"object\",\n        \"num_unique_values\": 1143,\n        \"samples\": [\n          \"2020-06-28\",\n          \"2023-01-07\",\n          \"2020-11-08\"\n        ],\n        \"semantic_type\": \"\",\n        \"description\": \"\"\n      }\n    },\n    {\n      \"column\": \"cases\",\n      \"properties\": {\n        \"dtype\": \"number\",\n        \"std\": 239379712,\n        \"min\": 557,\n        \"max\": 675046183,\n        \"num_unique_values\": 1143,\n        \"samples\": [\n          10134668,\n          662518151,\n          50526630\n        ],\n        \"semantic_type\": \"\",\n        \"description\": \"\"\n      }\n    },\n    {\n      \"column\": \"deaths\",\n      \"properties\": {\n        \"dtype\": \"number\",\n        \"std\": 2432262,\n        \"min\": 17,\n        \"max\": 6799591,\n        \"num_unique_values\": 1143,\n        \"samples\": [\n          542725,\n          6708647,\n          1329084\n        ],\n        \"semantic_type\": \"\",\n        \"description\": \"\"\n      }\n    },\n    {\n      \"column\": \"recovered\",\n      \"properties\": {\n        \"dtype\": \"number\",\n        \"std\": 10337624.192629848,\n        \"min\": 30.0,\n        \"max\": 33856584.0,\n        \"num_unique_values\": 295,\n        \"samples\": [\n          28156658.0,\n          4825624.0,\n          508723.0\n        ],\n        \"semantic_type\": \"\",\n        \"description\": \"\"\n      }\n    },\n    {\n      \"column\": \"new_cases\",\n      \"properties\": {\n        \"dtype\": \"number\",\n        \"std\": 569430,\n        \"min\": 0,\n        \"max\": 3436860,\n        \"num_unique_values\": 1142,\n        \"samples\": [\n          172727,\n          511241,\n          557095\n        ],\n        \"semantic_type\": \"\",\n        \"description\": \"\"\n      }\n    },\n    {\n      \"column\": \"new_deaths\",\n      \"properties\": {\n        \"dtype\": \"number\",\n        \"std\": 3901,\n        \"min\": 0,\n        \"max\": 14849,\n        \"num_unique_values\": 1061,\n        \"samples\": [\n          92,\n          10445,\n          9212\n        ],\n        \"semantic_type\": \"\",\n        \"description\": \"\"\n      }\n    },\n    {\n      \"column\": \"new_recovered\",\n      \"properties\": {\n        \"dtype\": \"number\",\n        \"std\": 98221.21936536573,\n        \"min\": 2.0,\n        \"max\": 338848.0,\n        \"num_unique_values\": 299,\n        \"samples\": [\n          287305.0,\n          205731.0,\n          152159.0\n        ],\n        \"semantic_type\": \"\",\n        \"description\": \"\"\n      }\n    },\n    {\n      \"column\": \"active\",\n      \"properties\": {\n        \"dtype\": \"number\",\n        \"std\": 4288958.893459037,\n        \"min\": 510.0,\n        \"max\": 17018362.0,\n        \"num_unique_values\": 295,\n        \"samples\": [\n          11933012.0,\n          4242432.0,\n          1417682.0\n        ],\n        \"semantic_type\": \"\",\n        \"description\": \"\"\n      }\n    },\n    {\n      \"column\": \"case_fatality_rate\",\n      \"properties\": {\n        \"dtype\": \"number\",\n        \"std\": 1584.3874270718443,\n        \"min\": 1007.277898,\n        \"max\": 7735.993274,\n        \"num_unique_values\": 1143,\n        \"samples\": [\n          5355.133488,\n          1012.598219,\n          2630.462392\n        ],\n        \"semantic_type\": \"\",\n        \"description\": \"\"\n      }\n    }\n  ]\n}"
            }
          },
          "metadata": {},
          "execution_count": 19
        }
      ]
    },
    {
      "cell_type": "code",
      "source": [
        "# Set `date` columns to `datetime` dtype:\n",
        "df_country[\"date\"] = pd.to_datetime(df_country[\"date\"])\n",
        "df_global[\"date\"] = pd.to_datetime(df_global[\"date\"])"
      ],
      "metadata": {
        "execution": {
          "iopub.status.busy": "2024-08-24T23:34:34.825933Z",
          "iopub.execute_input": "2024-08-24T23:34:34.826359Z",
          "iopub.status.idle": "2024-08-24T23:34:34.907753Z",
          "shell.execute_reply.started": "2024-08-24T23:34:34.826318Z",
          "shell.execute_reply": "2024-08-24T23:34:34.906590Z"
        },
        "trusted": true,
        "id": "f5DU4Lgr0MX8"
      },
      "execution_count": null,
      "outputs": []
    },
    {
      "cell_type": "code",
      "source": [
        "# Sort values by `country`, `date`:\n",
        "df_country = df_country.sort_values([\"country\", \"date\"]).reset_index(drop=True)\n",
        "df_global = df_global.sort_values([\"date\"]).reset_index(drop=True)"
      ],
      "metadata": {
        "execution": {
          "iopub.status.busy": "2024-08-24T23:34:34.909269Z",
          "iopub.execute_input": "2024-08-24T23:34:34.909692Z",
          "iopub.status.idle": "2024-08-24T23:34:35.008101Z",
          "shell.execute_reply.started": "2024-08-24T23:34:34.909637Z",
          "shell.execute_reply": "2024-08-24T23:34:35.006777Z"
        },
        "trusted": true,
        "id": "J0GmSEzJ0MX8"
      },
      "execution_count": null,
      "outputs": []
    },
    {
      "cell_type": "code",
      "source": [
        "df_country.head()"
      ],
      "metadata": {
        "execution": {
          "iopub.status.busy": "2024-08-24T23:34:35.009478Z",
          "iopub.execute_input": "2024-08-24T23:34:35.009842Z",
          "iopub.status.idle": "2024-08-24T23:34:35.047353Z",
          "shell.execute_reply.started": "2024-08-24T23:34:35.009797Z",
          "shell.execute_reply": "2024-08-24T23:34:35.046082Z"
        },
        "trusted": true,
        "id": "1FCTCCk00MX8"
      },
      "execution_count": null,
      "outputs": []
    },
    {
      "cell_type": "code",
      "source": [
        "df_global.tail()"
      ],
      "metadata": {
        "execution": {
          "iopub.status.busy": "2024-08-24T23:34:35.052605Z",
          "iopub.execute_input": "2024-08-24T23:34:35.052958Z",
          "iopub.status.idle": "2024-08-24T23:34:35.068554Z",
          "shell.execute_reply.started": "2024-08-24T23:34:35.052921Z",
          "shell.execute_reply": "2024-08-24T23:34:35.067346Z"
        },
        "trusted": true,
        "id": "fKE8Sa9R0MX8"
      },
      "execution_count": null,
      "outputs": []
    },
    {
      "cell_type": "markdown",
      "source": [
        "# 2. Charts"
      ],
      "metadata": {
        "id": "14fBIV0T0MX8"
      }
    },
    {
      "cell_type": "code",
      "source": [
        "country_list = df_country[\"country\"].unique()"
      ],
      "metadata": {
        "execution": {
          "iopub.status.busy": "2024-08-24T23:34:35.070153Z",
          "iopub.execute_input": "2024-08-24T23:34:35.070924Z",
          "iopub.status.idle": "2024-08-24T23:34:35.099649Z",
          "shell.execute_reply.started": "2024-08-24T23:34:35.070850Z",
          "shell.execute_reply": "2024-08-24T23:34:35.098533Z"
        },
        "trusted": true,
        "id": "OVV8cVUj0MX9"
      },
      "execution_count": null,
      "outputs": []
    },
    {
      "cell_type": "markdown",
      "source": [
        "## a. Global Charts"
      ],
      "metadata": {
        "id": "PGZiUfZg0MX9"
      }
    },
    {
      "cell_type": "code",
      "source": [
        "def graph_area_global(measure, color, title):\n",
        "    df = df_global[[\"date\", measure]].dropna()\n",
        "    fig = px.area(\n",
        "        df,\n",
        "        x=\"date\",\n",
        "        y=measure,\n",
        "        color_discrete_sequence=[color],\n",
        "        hover_data={\"date\": True, measure: True},\n",
        "    )\n",
        "    fig.update_layout(\n",
        "        title=title,\n",
        "        xaxis_title=\"date\",\n",
        "        yaxis_title=\"count\",\n",
        "        xaxis_rangeslider_visible=True,\n",
        "        width=800,\n",
        "        height=600,\n",
        "    )\n",
        "    fig.show()"
      ],
      "metadata": {
        "execution": {
          "iopub.status.busy": "2024-08-24T23:34:35.101124Z",
          "iopub.execute_input": "2024-08-24T23:34:35.101552Z",
          "iopub.status.idle": "2024-08-24T23:34:35.109178Z",
          "shell.execute_reply.started": "2024-08-24T23:34:35.101487Z",
          "shell.execute_reply": "2024-08-24T23:34:35.108046Z"
        },
        "trusted": true,
        "id": "Gud2SkD90MX9"
      },
      "execution_count": null,
      "outputs": []
    },
    {
      "cell_type": "code",
      "source": [
        "# Global case count\n",
        "graph_area_global(\"cases\", \"#6f6fe7\", \"Global Cases\")"
      ],
      "metadata": {
        "execution": {
          "iopub.status.busy": "2024-08-24T23:34:35.110551Z",
          "iopub.execute_input": "2024-08-24T23:34:35.110864Z",
          "iopub.status.idle": "2024-08-24T23:34:36.769194Z",
          "shell.execute_reply.started": "2024-08-24T23:34:35.110828Z",
          "shell.execute_reply": "2024-08-24T23:34:36.767906Z"
        },
        "trusted": true,
        "id": "Kmgl6t7X0MX9"
      },
      "execution_count": null,
      "outputs": []
    },
    {
      "cell_type": "code",
      "source": [
        "# Global death count\n",
        "graph_area_global(\"deaths\", \"#ec1342\", \"Global Deaths\")"
      ],
      "metadata": {
        "execution": {
          "iopub.status.busy": "2024-08-24T23:34:36.770534Z",
          "iopub.execute_input": "2024-08-24T23:34:36.770916Z",
          "iopub.status.idle": "2024-08-24T23:34:36.882528Z",
          "shell.execute_reply.started": "2024-08-24T23:34:36.770848Z",
          "shell.execute_reply": "2024-08-24T23:34:36.881393Z"
        },
        "trusted": true,
        "id": "7ojbMlWg0MX9"
      },
      "execution_count": null,
      "outputs": []
    },
    {
      "cell_type": "code",
      "source": [
        "# Global recovery count\n",
        "graph_area_global(\"recovered\", \"#12ed5d\", \"Global Recoveries\")"
      ],
      "metadata": {
        "execution": {
          "iopub.status.busy": "2024-08-24T23:34:36.883844Z",
          "iopub.execute_input": "2024-08-24T23:34:36.884246Z",
          "iopub.status.idle": "2024-08-24T23:34:36.970822Z",
          "shell.execute_reply.started": "2024-08-24T23:34:36.884206Z",
          "shell.execute_reply": "2024-08-24T23:34:36.969732Z"
        },
        "trusted": true,
        "id": "2x2XGbH70MX9"
      },
      "execution_count": null,
      "outputs": []
    },
    {
      "cell_type": "code",
      "source": [
        "# Global active count\n",
        "graph_area_global(\"active\", \"#ff9c00\", \"Global Active\")"
      ],
      "metadata": {
        "execution": {
          "iopub.status.busy": "2024-08-24T23:34:36.972152Z",
          "iopub.execute_input": "2024-08-24T23:34:36.972483Z",
          "iopub.status.idle": "2024-08-24T23:34:37.056571Z",
          "shell.execute_reply.started": "2024-08-24T23:34:36.972447Z",
          "shell.execute_reply": "2024-08-24T23:34:37.055448Z"
        },
        "trusted": true,
        "id": "ueeIGo610MX9"
      },
      "execution_count": null,
      "outputs": []
    },
    {
      "cell_type": "code",
      "source": [
        "# Global new cases\n",
        "graph_area_global(\"new_cases\", \"#6f6fe7\", \"Global Daily New Cases\")"
      ],
      "metadata": {
        "execution": {
          "iopub.status.busy": "2024-08-24T23:34:37.057906Z",
          "iopub.execute_input": "2024-08-24T23:34:37.058258Z",
          "iopub.status.idle": "2024-08-24T23:34:37.164827Z",
          "shell.execute_reply.started": "2024-08-24T23:34:37.058219Z",
          "shell.execute_reply": "2024-08-24T23:34:37.163719Z"
        },
        "trusted": true,
        "id": "ZcxQTSM30MX-"
      },
      "execution_count": null,
      "outputs": []
    },
    {
      "cell_type": "code",
      "source": [
        "# Global new deaths\n",
        "graph_area_global(\"new_deaths\", \"#ec1342\", \"Global Daily New Deaths\")"
      ],
      "metadata": {
        "execution": {
          "iopub.status.busy": "2024-08-24T23:34:37.166236Z",
          "iopub.execute_input": "2024-08-24T23:34:37.166610Z",
          "iopub.status.idle": "2024-08-24T23:34:37.270923Z",
          "shell.execute_reply.started": "2024-08-24T23:34:37.166570Z",
          "shell.execute_reply": "2024-08-24T23:34:37.269989Z"
        },
        "trusted": true,
        "id": "dEPRuGtg0MX-"
      },
      "execution_count": null,
      "outputs": []
    },
    {
      "cell_type": "code",
      "source": [
        "# Global new recoveries\n",
        "graph_area_global(\"new_recovered\", \"#11de57\", \"Global Daily New Recoveries\")"
      ],
      "metadata": {
        "execution": {
          "iopub.status.busy": "2024-08-24T23:34:37.272137Z",
          "iopub.execute_input": "2024-08-24T23:34:37.272442Z",
          "iopub.status.idle": "2024-08-24T23:34:37.357435Z",
          "shell.execute_reply.started": "2024-08-24T23:34:37.272408Z",
          "shell.execute_reply": "2024-08-24T23:34:37.356471Z"
        },
        "trusted": true,
        "id": "M-8Le7C20MX-"
      },
      "execution_count": null,
      "outputs": []
    },
    {
      "cell_type": "code",
      "source": [
        "# Global cases split by active, deaths, and recovered (stacked)\n",
        "df_glob_filtered = df_global.dropna(subset=[\"active\"])[\n",
        "    [\"date\", \"recovered\", \"deaths\", \"active\"]\n",
        "]\n",
        "df_glob_melted = df_glob_filtered.melt(\n",
        "    id_vars=\"date\", var_name=\"Measure\", value_name=\"val\"\n",
        ")\n",
        "\n",
        "fig = px.area(\n",
        "    df_glob_melted,\n",
        "    x=\"date\",\n",
        "    y=\"val\",\n",
        "    color=\"Measure\",\n",
        "    color_discrete_sequence=[\"#10cf51\", \"#ec1342\", \"#ff9c00\"],\n",
        ")\n",
        "fig.update_layout(\n",
        "    title=\"Global Total Case Count Split by Active, Deaths, Recoveries\",\n",
        "    xaxis_title=\"date\",\n",
        "    yaxis_title=\"count\",\n",
        "    xaxis_rangeslider_visible=True,\n",
        "    width=800,\n",
        "    height=600,\n",
        ")\n",
        "\n",
        "fig.show()"
      ],
      "metadata": {
        "execution": {
          "iopub.status.busy": "2024-08-24T23:34:37.358870Z",
          "iopub.execute_input": "2024-08-24T23:34:37.359256Z",
          "iopub.status.idle": "2024-08-24T23:34:37.488627Z",
          "shell.execute_reply.started": "2024-08-24T23:34:37.359205Z",
          "shell.execute_reply": "2024-08-24T23:34:37.487551Z"
        },
        "trusted": true,
        "id": "pTkqPaW40MX-"
      },
      "execution_count": null,
      "outputs": []
    },
    {
      "cell_type": "code",
      "source": [
        "# Global case fatality rate\n",
        "fig = px.line(\n",
        "    df_global, x=\"date\", y=\"case_fatality_rate\", color_discrete_sequence=[\"#b50f33\"]\n",
        ")\n",
        "fig.update_layout(\n",
        "    title=\"Global Case Fatality Rate per 100,000 population\",\n",
        "    xaxis_title=\"date\",\n",
        "    yaxis_title=\"rate (per 100,000)\",\n",
        "    xaxis_rangeslider_visible=True,\n",
        "    width=800,\n",
        "    height=600,\n",
        ")\n",
        "\n",
        "fig.show()"
      ],
      "metadata": {
        "execution": {
          "iopub.status.busy": "2024-08-24T23:34:37.490068Z",
          "iopub.execute_input": "2024-08-24T23:34:37.490384Z",
          "iopub.status.idle": "2024-08-24T23:34:37.618576Z",
          "shell.execute_reply.started": "2024-08-24T23:34:37.490348Z",
          "shell.execute_reply": "2024-08-24T23:34:37.617499Z"
        },
        "trusted": true,
        "id": "bbzytgvk0MX-"
      },
      "execution_count": null,
      "outputs": []
    },
    {
      "cell_type": "markdown",
      "source": [
        "## b. Country Charts"
      ],
      "metadata": {
        "id": "so1JX6hd0MX-"
      }
    },
    {
      "cell_type": "code",
      "source": [
        "def country_area_graph(country, measure, color, title):\n",
        "    df = df_country.dropna(subset=[measure])\n",
        "    df = df[df[\"country\"] == country]\n",
        "    fig = px.area(df, x=\"date\", y=measure, color_discrete_sequence=[color])\n",
        "    fig.update_layout(\n",
        "        title=title,\n",
        "        xaxis_title=\"date\",\n",
        "        yaxis_title=\"count\",\n",
        "        xaxis_rangeslider_visible=True,\n",
        "        width=800,\n",
        "        height=600,\n",
        "    )\n",
        "    fig.show()\n",
        "\n",
        "\n",
        "country_dropdown = widgets.Dropdown(\n",
        "    options=country_list,\n",
        "    description=\"Country:\",\n",
        ")"
      ],
      "metadata": {
        "execution": {
          "iopub.status.busy": "2024-08-24T23:34:37.620221Z",
          "iopub.execute_input": "2024-08-24T23:34:37.621029Z",
          "iopub.status.idle": "2024-08-24T23:34:37.636497Z",
          "shell.execute_reply.started": "2024-08-24T23:34:37.620974Z",
          "shell.execute_reply": "2024-08-24T23:34:37.635343Z"
        },
        "trusted": true,
        "id": "D8dm6V3F0MX_"
      },
      "execution_count": null,
      "outputs": []
    },
    {
      "cell_type": "code",
      "source": [
        "# Country total case count\n",
        "widgets.interactive(\n",
        "    country_area_graph,\n",
        "    country=country_dropdown,\n",
        "    measure=widgets.fixed(\"cases\"),\n",
        "    color=widgets.fixed(\"#6f6fe7\"),\n",
        "    title=widgets.fixed(\"Total Case Count by Country\"),\n",
        ")"
      ],
      "metadata": {
        "execution": {
          "iopub.status.busy": "2024-08-24T23:34:37.637976Z",
          "iopub.execute_input": "2024-08-24T23:34:37.638326Z",
          "iopub.status.idle": "2024-08-24T23:34:37.836159Z",
          "shell.execute_reply.started": "2024-08-24T23:34:37.638288Z",
          "shell.execute_reply": "2024-08-24T23:34:37.835057Z"
        },
        "trusted": true,
        "id": "rYUr1RWW0MX_"
      },
      "execution_count": null,
      "outputs": []
    },
    {
      "cell_type": "code",
      "source": [
        "# Country total death count\n",
        "widgets.interactive(\n",
        "    country_area_graph,\n",
        "    country=country_dropdown,\n",
        "    measure=widgets.fixed(\"deaths\"),\n",
        "    color=widgets.fixed(\"#ec1342\"),\n",
        "    title=widgets.fixed(\"Total Death Count by Country\"),\n",
        ")"
      ],
      "metadata": {
        "execution": {
          "iopub.status.busy": "2024-08-24T23:34:37.837380Z",
          "iopub.execute_input": "2024-08-24T23:34:37.837701Z",
          "iopub.status.idle": "2024-08-24T23:34:38.025637Z",
          "shell.execute_reply.started": "2024-08-24T23:34:37.837665Z",
          "shell.execute_reply": "2024-08-24T23:34:38.024591Z"
        },
        "trusted": true,
        "id": "3jRsmH8O0MX_"
      },
      "execution_count": null,
      "outputs": []
    },
    {
      "cell_type": "code",
      "source": [
        "# Country total recovered count\n",
        "widgets.interactive(\n",
        "    country_area_graph,\n",
        "    country=country_dropdown,\n",
        "    measure=widgets.fixed(\"recovered\"),\n",
        "    color=widgets.fixed(\"#11de57\"),\n",
        "    title=widgets.fixed(\"Total Recovery Count by Country\"),\n",
        ")"
      ],
      "metadata": {
        "execution": {
          "iopub.status.busy": "2024-08-24T23:34:38.027037Z",
          "iopub.execute_input": "2024-08-24T23:34:38.027382Z",
          "iopub.status.idle": "2024-08-24T23:34:38.167779Z",
          "shell.execute_reply.started": "2024-08-24T23:34:38.027344Z",
          "shell.execute_reply": "2024-08-24T23:34:38.166799Z"
        },
        "trusted": true,
        "id": "oOdUosA-0MX_"
      },
      "execution_count": null,
      "outputs": []
    },
    {
      "cell_type": "code",
      "source": [
        "# Country total active count\n",
        "widgets.interactive(\n",
        "    country_area_graph,\n",
        "    country=country_dropdown,\n",
        "    measure=widgets.fixed(\"active\"),\n",
        "    color=widgets.fixed(\"#ff9c00\"),\n",
        "    title=widgets.fixed(\"Total Active Case Count by Country\"),\n",
        ")"
      ],
      "metadata": {
        "execution": {
          "iopub.status.busy": "2024-08-24T23:34:38.169314Z",
          "iopub.execute_input": "2024-08-24T23:34:38.169667Z",
          "iopub.status.idle": "2024-08-24T23:34:38.303846Z",
          "shell.execute_reply.started": "2024-08-24T23:34:38.169629Z",
          "shell.execute_reply": "2024-08-24T23:34:38.301933Z"
        },
        "trusted": true,
        "id": "3tAi8fw_0MX_"
      },
      "execution_count": null,
      "outputs": []
    },
    {
      "cell_type": "code",
      "source": [
        "# Country daily new cases\n",
        "widgets.interactive(\n",
        "    country_area_graph,\n",
        "    country=country_dropdown,\n",
        "    measure=widgets.fixed(\"new_cases_smoothed\"),\n",
        "    color=widgets.fixed(\"#6f6fe7\"),\n",
        "    title=widgets.fixed(\"Daily New Cases by Country\"),\n",
        ")"
      ],
      "metadata": {
        "execution": {
          "iopub.status.busy": "2024-08-24T23:34:38.305169Z",
          "iopub.execute_input": "2024-08-24T23:34:38.305512Z",
          "iopub.status.idle": "2024-08-24T23:34:38.518266Z",
          "shell.execute_reply.started": "2024-08-24T23:34:38.305475Z",
          "shell.execute_reply": "2024-08-24T23:34:38.517158Z"
        },
        "trusted": true,
        "id": "3bSNMe1-0MX_"
      },
      "execution_count": null,
      "outputs": []
    },
    {
      "cell_type": "code",
      "source": [
        "# Country daily new cases\n",
        "widgets.interactive(\n",
        "    country_area_graph,\n",
        "    country=country_dropdown,\n",
        "    measure=widgets.fixed(\"new_deaths_smoothed\"),\n",
        "    color=widgets.fixed(\"#ec1342\"),\n",
        "    title=widgets.fixed(\"Daily New Deaths by Country\"),\n",
        ")"
      ],
      "metadata": {
        "execution": {
          "iopub.status.busy": "2024-08-24T23:34:38.525037Z",
          "iopub.execute_input": "2024-08-24T23:34:38.525432Z",
          "iopub.status.idle": "2024-08-24T23:34:38.737662Z",
          "shell.execute_reply.started": "2024-08-24T23:34:38.525383Z",
          "shell.execute_reply": "2024-08-24T23:34:38.736427Z"
        },
        "trusted": true,
        "id": "uOI-e77g0MX_"
      },
      "execution_count": null,
      "outputs": []
    },
    {
      "cell_type": "code",
      "source": [
        "# Country daily new recovered\n",
        "widgets.interactive(\n",
        "    country_area_graph,\n",
        "    country=country_dropdown,\n",
        "    measure=widgets.fixed(\"new_recovered_smoothed\"),\n",
        "    color=widgets.fixed(\"#11de57\"),\n",
        "    title=widgets.fixed(\"Daily New Recoveries by Country\"),\n",
        ")"
      ],
      "metadata": {
        "execution": {
          "iopub.status.busy": "2024-08-24T23:34:38.739192Z",
          "iopub.execute_input": "2024-08-24T23:34:38.739571Z",
          "iopub.status.idle": "2024-08-24T23:34:38.876319Z",
          "shell.execute_reply.started": "2024-08-24T23:34:38.739533Z",
          "shell.execute_reply": "2024-08-24T23:34:38.875213Z"
        },
        "trusted": true,
        "id": "POGqoeN50MYA"
      },
      "execution_count": null,
      "outputs": []
    },
    {
      "cell_type": "code",
      "source": [
        "# Country total case count split by active, deaths, recoveries (stacked)\n",
        "def country_case_stacked_graph(country):\n",
        "    df = df_country[df_country[\"country\"] == country].set_index(\"country\")\n",
        "    df_filtered = df.dropna(subset=[\"active\"])[\n",
        "        [\"date\", \"recovered\", \"deaths\", \"active\"]\n",
        "    ]\n",
        "    df_melted = df_filtered.melt(id_vars=\"date\", var_name=\"Measure\", value_name=\"val\")\n",
        "\n",
        "    fig = px.area(\n",
        "        df_melted,\n",
        "        x=\"date\",\n",
        "        y=\"val\",\n",
        "        color=\"Measure\",\n",
        "        color_discrete_sequence=[\"#10cf51\", \"#ec1342\", \"#ff9c00\"],\n",
        "    )\n",
        "    fig.update_layout(\n",
        "        title=f\"Total Case Count Split by Active, Deaths, Recoveries in {country}\",\n",
        "        xaxis_title=\"date\",\n",
        "        yaxis_title=\"count\",\n",
        "        xaxis_rangeslider_visible=True,\n",
        "        width=800,\n",
        "        height=600,\n",
        "    )\n",
        "    fig.show()\n",
        "\n",
        "\n",
        "widgets.interact(country_case_stacked_graph, country=country_list)"
      ],
      "metadata": {
        "execution": {
          "iopub.status.busy": "2024-08-24T23:34:38.877819Z",
          "iopub.execute_input": "2024-08-24T23:34:38.878190Z",
          "iopub.status.idle": "2024-08-24T23:34:39.122028Z",
          "shell.execute_reply.started": "2024-08-24T23:34:38.878152Z",
          "shell.execute_reply": "2024-08-24T23:34:39.120944Z"
        },
        "trusted": true,
        "id": "PRh2Pdns0MYA"
      },
      "execution_count": null,
      "outputs": []
    },
    {
      "cell_type": "code",
      "source": [
        "# Country vaccination counts (filterable)\n",
        "vaccination_measure_list = [\n",
        "    \"people_vaccinated\",\n",
        "    \"people_fully_vaccinated\",\n",
        "    \"total_vaccinations\",\n",
        "    \"total_boosters\",\n",
        "    \"daily_people_vaccinated\",\n",
        "    \"daily_people_fully_vaccinated\",\n",
        "    \"daily_vaccinations\",\n",
        "    \"daily_boosters\",\n",
        "]\n",
        "\n",
        "\n",
        "def graph_country_vaccination(country, measure):\n",
        "    df = df_country[df_country[\"country\"] == country]\n",
        "    df = df[\n",
        "        [\n",
        "            \"date\",\n",
        "            \"people_vaccinated\",\n",
        "            \"people_fully_vaccinated\",\n",
        "            \"total_vaccinations\",\n",
        "            \"total_boosters\",\n",
        "            \"daily_people_vaccinated\",\n",
        "            \"daily_people_fully_vaccinated\",\n",
        "            \"daily_vaccinations\",\n",
        "            \"daily_boosters\",\n",
        "        ]\n",
        "    ]\n",
        "    fig = px.area(df, x=\"date\", y=measure, color_discrete_sequence=[\"#6ad2e5\"])\n",
        "    fig.update_layout(\n",
        "        title=f\"{measure} in {country}\",\n",
        "        xaxis_title=\"date\",\n",
        "        yaxis_title=f\"{measure}\",\n",
        "        xaxis_rangeslider_visible=True,\n",
        "        width=800,\n",
        "        height=600,\n",
        "    )\n",
        "    fig.show()\n",
        "\n",
        "\n",
        "widgets.interact(\n",
        "    graph_country_vaccination, country=country_list, measure=vaccination_measure_list\n",
        ")"
      ],
      "metadata": {
        "execution": {
          "iopub.status.busy": "2024-08-24T23:34:39.123464Z",
          "iopub.execute_input": "2024-08-24T23:34:39.123805Z",
          "iopub.status.idle": "2024-08-24T23:34:39.319476Z",
          "shell.execute_reply.started": "2024-08-24T23:34:39.123768Z",
          "shell.execute_reply": "2024-08-24T23:34:39.318314Z"
        },
        "trusted": true,
        "id": "hSHJcuGG0MYA"
      },
      "execution_count": null,
      "outputs": []
    },
    {
      "cell_type": "code",
      "source": [
        "# Country stringency index over time\n",
        "def graph_country_stringency(country):\n",
        "    df = df_country[df_country[\"country\"] == country]\n",
        "    df = df[[\"date\", \"stringency_value\"]].dropna()\n",
        "    fig = px.line(\n",
        "        df, x=\"date\", y=\"stringency_value\", color_discrete_sequence=[\"#d97670\"]\n",
        "    )\n",
        "    fig.update_layout(\n",
        "        title=f\"Stringency Index in {country}\",\n",
        "        xaxis_title=\"date\",\n",
        "        yaxis_title=\"stringency index\",\n",
        "        xaxis_rangeslider_visible=True,\n",
        "        width=800,\n",
        "        height=600,\n",
        "    )\n",
        "    fig.show()\n",
        "\n",
        "\n",
        "widgets.interact(graph_country_stringency, country=country_list)"
      ],
      "metadata": {
        "execution": {
          "iopub.status.busy": "2024-08-24T23:34:39.321163Z",
          "iopub.execute_input": "2024-08-24T23:34:39.322025Z",
          "iopub.status.idle": "2024-08-24T23:34:39.508864Z",
          "shell.execute_reply.started": "2024-08-24T23:34:39.321953Z",
          "shell.execute_reply": "2024-08-24T23:34:39.507844Z"
        },
        "trusted": true,
        "id": "4_nwjMyT0MYA"
      },
      "execution_count": null,
      "outputs": []
    },
    {
      "cell_type": "code",
      "source": [
        "def graph_country_rates(country, measure, color):\n",
        "    df = df_country[df_country[\"country\"] == country]\n",
        "    df = df[[\"date\", measure]].dropna()\n",
        "    fig = px.line(df, x=\"date\", y=measure, color_discrete_sequence=[color])\n",
        "    fig.update_layout(\n",
        "        title=f\"{measure} in {country}\",\n",
        "        xaxis_title=\"date\",\n",
        "        yaxis_title=measure,\n",
        "        xaxis_rangeslider_visible=True,\n",
        "        width=800,\n",
        "        height=600,\n",
        "    )\n",
        "    fig.show()"
      ],
      "metadata": {
        "execution": {
          "iopub.status.busy": "2024-08-24T23:34:39.510269Z",
          "iopub.execute_input": "2024-08-24T23:34:39.510636Z",
          "iopub.status.idle": "2024-08-24T23:34:39.517613Z",
          "shell.execute_reply.started": "2024-08-24T23:34:39.510597Z",
          "shell.execute_reply": "2024-08-24T23:34:39.516398Z"
        },
        "trusted": true,
        "id": "lc-xOklJ0MYE"
      },
      "execution_count": null,
      "outputs": []
    },
    {
      "cell_type": "code",
      "source": [
        "# Country infection rate over time\n",
        "widgets.interactive(\n",
        "    graph_country_rates,\n",
        "    country=country_list,\n",
        "    measure=widgets.fixed(\"infection_rate\"),\n",
        "    color=widgets.fixed(\"#d97670\"),\n",
        ")"
      ],
      "metadata": {
        "execution": {
          "iopub.status.busy": "2024-08-24T23:34:39.519146Z",
          "iopub.execute_input": "2024-08-24T23:34:39.519500Z",
          "iopub.status.idle": "2024-08-24T23:34:39.702535Z",
          "shell.execute_reply.started": "2024-08-24T23:34:39.519462Z",
          "shell.execute_reply": "2024-08-24T23:34:39.701475Z"
        },
        "trusted": true,
        "id": "XDtIjXZX0MYE"
      },
      "execution_count": null,
      "outputs": []
    },
    {
      "cell_type": "code",
      "source": [
        "# Country active case ratio over time\n",
        "widgets.interactive(\n",
        "    graph_country_rates,\n",
        "    country=country_list,\n",
        "    measure=widgets.fixed(\"active_case_rate\"),\n",
        "    color=widgets.fixed(\"#ff9c00\"),\n",
        ")"
      ],
      "metadata": {
        "execution": {
          "iopub.status.busy": "2024-08-24T23:34:39.703899Z",
          "iopub.execute_input": "2024-08-24T23:34:39.704275Z",
          "iopub.status.idle": "2024-08-24T23:34:39.858088Z",
          "shell.execute_reply.started": "2024-08-24T23:34:39.704236Z",
          "shell.execute_reply": "2024-08-24T23:34:39.856965Z"
        },
        "trusted": true,
        "id": "gNtp0I-Q0MYE"
      },
      "execution_count": null,
      "outputs": []
    },
    {
      "cell_type": "code",
      "source": [
        "# Country people vaccination ratio over time\n",
        "widgets.interactive(\n",
        "    graph_country_rates,\n",
        "    country=country_list,\n",
        "    measure=widgets.fixed(\"people_vaccinated_rate\"),\n",
        "    color=widgets.fixed(\"#6ad2e5\"),\n",
        ")"
      ],
      "metadata": {
        "execution": {
          "iopub.status.busy": "2024-08-24T23:34:39.859469Z",
          "iopub.execute_input": "2024-08-24T23:34:39.859905Z",
          "iopub.status.idle": "2024-08-24T23:34:40.031955Z",
          "shell.execute_reply.started": "2024-08-24T23:34:39.859836Z",
          "shell.execute_reply": "2024-08-24T23:34:40.030866Z"
        },
        "trusted": true,
        "id": "92aQBzpN0MYE"
      },
      "execution_count": null,
      "outputs": []
    },
    {
      "cell_type": "code",
      "source": [
        "# Country fully vaccinated ratio over time\n",
        "widgets.interactive(\n",
        "    graph_country_rates,\n",
        "    country=country_list,\n",
        "    measure=widgets.fixed(\"fully_vaccinated_rate\"),\n",
        "    color=widgets.fixed(\"#6ad2e5\"),\n",
        ")"
      ],
      "metadata": {
        "execution": {
          "iopub.status.busy": "2024-08-24T23:34:40.033409Z",
          "iopub.execute_input": "2024-08-24T23:34:40.034093Z",
          "iopub.status.idle": "2024-08-24T23:34:40.191359Z",
          "shell.execute_reply.started": "2024-08-24T23:34:40.034052Z",
          "shell.execute_reply": "2024-08-24T23:34:40.190184Z"
        },
        "trusted": true,
        "id": "qmNOa7Tu0MYE"
      },
      "execution_count": null,
      "outputs": []
    },
    {
      "cell_type": "code",
      "source": [
        "# Country case fatality rates\n",
        "widgets.interactive(\n",
        "    graph_country_rates,\n",
        "    country=country_list,\n",
        "    measure=widgets.fixed(\"case_fatality_rate\"),\n",
        "    color=widgets.fixed(\"#d97670\"),\n",
        ")"
      ],
      "metadata": {
        "execution": {
          "iopub.status.busy": "2024-08-24T23:34:40.193191Z",
          "iopub.execute_input": "2024-08-24T23:34:40.193616Z",
          "iopub.status.idle": "2024-08-24T23:34:40.366922Z",
          "shell.execute_reply.started": "2024-08-24T23:34:40.193568Z",
          "shell.execute_reply": "2024-08-24T23:34:40.365799Z"
        },
        "trusted": true,
        "id": "mL2i7r4l0MYF"
      },
      "execution_count": null,
      "outputs": []
    },
    {
      "cell_type": "code",
      "source": [
        "# Country case incidence rates\n",
        "widgets.interactive(\n",
        "    graph_country_rates,\n",
        "    country=country_list,\n",
        "    measure=widgets.fixed(\"case_incidence_rate\"),\n",
        "    color=widgets.fixed(\"#d97670\"),\n",
        ")"
      ],
      "metadata": {
        "execution": {
          "iopub.status.busy": "2024-08-24T23:34:40.368502Z",
          "iopub.execute_input": "2024-08-24T23:34:40.368939Z",
          "iopub.status.idle": "2024-08-24T23:34:40.542224Z",
          "shell.execute_reply.started": "2024-08-24T23:34:40.368873Z",
          "shell.execute_reply": "2024-08-24T23:34:40.541188Z"
        },
        "trusted": true,
        "id": "n6XZQ1Gx0MYF"
      },
      "execution_count": null,
      "outputs": []
    },
    {
      "cell_type": "code",
      "source": [
        "# Create date slider widget for graphs below\n",
        "def create_date_slider(measure):\n",
        "    start_date = df_country.dropna(subset=measure)[\"date\"].iloc[0]\n",
        "    end_date = df_country.dropna(subset=measure)[\"date\"].iloc[-1]\n",
        "    interval = timedelta(days=1)\n",
        "\n",
        "    # Create date range\n",
        "    date_range = []\n",
        "    current_date = start_date\n",
        "    while current_date <= end_date:\n",
        "        date_range.append(current_date)\n",
        "        current_date += interval\n",
        "\n",
        "    # Create a slider widget\n",
        "    date_slider = widgets.SelectionSlider(\n",
        "        options=[(d.strftime(\"%Y-%m-%d\"), d) for d in date_range],\n",
        "        value=start_date,\n",
        "        description=\"Select Date:\",\n",
        "        continuous_update=False,\n",
        "    )\n",
        "    return date_slider\n",
        "\n",
        "\n",
        "# Creates bar graphs of top/bottom 15 countries in given measure\n",
        "def graph_country_bar(measure, date, is_top_n=True, hdi_colored=False):\n",
        "    df = df_country[df_country[\"population\"] > 1000000]\n",
        "    df = df[df[\"date\"] == date]\n",
        "    df = df[[\"country\", measure, \"hdi_value\"]]\n",
        "    if is_top_n == True:\n",
        "        df = (\n",
        "            df.sort_values(by=measure, ascending=False)\n",
        "            .head(15)\n",
        "            .sort_values(by=measure, ascending=True)\n",
        "        )\n",
        "    else:\n",
        "        df = (\n",
        "            df.sort_values(by=measure, ascending=True)\n",
        "            .head(15)\n",
        "            .sort_values(by=measure, ascending=False)\n",
        "        )\n",
        "    df[\"hdi_value\"] = df[\"hdi_value\"].round(2)\n",
        "\n",
        "    if hdi_colored == True:\n",
        "        fig = px.bar(\n",
        "            df,\n",
        "            x=measure,\n",
        "            y=\"country\",\n",
        "            orientation=\"h\",\n",
        "            color=\"hdi_value\",\n",
        "            range_color=[0, 1],\n",
        "            hover_data={\"hdi_value\": True},\n",
        "        )\n",
        "    else:\n",
        "        fig = px.bar(\n",
        "            df,\n",
        "            x=measure,\n",
        "            y=\"country\",\n",
        "            orientation=\"h\",\n",
        "            range_color=[0, 1],\n",
        "            hover_data={\"hdi_value\": True},\n",
        "        )\n",
        "    if is_top_n == True:\n",
        "        fig.update_layout(\n",
        "            title=f\"Top 15 Countries by {measure}\",\n",
        "            xaxis_title=\"country\",\n",
        "            yaxis_title=measure,\n",
        "            width=800,\n",
        "            height=600,\n",
        "        )\n",
        "    else:\n",
        "        fig.update_layout(\n",
        "            title=f\"Bottom 15 Countries by {measure}\",\n",
        "            xaxis_title=\"country\",\n",
        "            yaxis_title=measure,\n",
        "            width=800,\n",
        "            height=600,\n",
        "        )\n",
        "    fig.show()"
      ],
      "metadata": {
        "execution": {
          "iopub.status.busy": "2024-08-24T23:34:40.544066Z",
          "iopub.execute_input": "2024-08-24T23:34:40.544654Z",
          "iopub.status.idle": "2024-08-24T23:34:40.562108Z",
          "shell.execute_reply.started": "2024-08-24T23:34:40.544606Z",
          "shell.execute_reply": "2024-08-24T23:34:40.560819Z"
        },
        "trusted": true,
        "id": "6DVkNVIv0MYF"
      },
      "execution_count": null,
      "outputs": []
    },
    {
      "cell_type": "code",
      "source": [
        "# Bar charts of top 15 countries by infection rate, colored in hdi\n",
        "widgets.interactive(\n",
        "    graph_country_bar,\n",
        "    measure=widgets.fixed(\"infection_rate\"),\n",
        "    date=create_date_slider(\"infection_rate\"),\n",
        "    is_top_n=True,\n",
        "    hdi_colored=widgets.fixed(True),\n",
        ")"
      ],
      "metadata": {
        "execution": {
          "iopub.status.busy": "2024-08-24T23:34:40.563517Z",
          "iopub.execute_input": "2024-08-24T23:34:40.563937Z",
          "iopub.status.idle": "2024-08-24T23:34:40.812319Z",
          "shell.execute_reply.started": "2024-08-24T23:34:40.563863Z",
          "shell.execute_reply": "2024-08-24T23:34:40.811297Z"
        },
        "trusted": true,
        "id": "utRDLHLp0MYF"
      },
      "execution_count": null,
      "outputs": []
    },
    {
      "cell_type": "code",
      "source": [
        "# Bar charts of top 15 countries by cases\n",
        "widgets.interactive(\n",
        "    graph_country_bar,\n",
        "    measure=widgets.fixed(\"cases\"),\n",
        "    date=create_date_slider(\"cases\"),\n",
        "    is_top_n=True,\n",
        "    hdi_colored=widgets.fixed(False),\n",
        ")"
      ],
      "metadata": {
        "execution": {
          "iopub.status.busy": "2024-08-24T23:34:40.813841Z",
          "iopub.execute_input": "2024-08-24T23:34:40.814185Z",
          "iopub.status.idle": "2024-08-24T23:34:41.005835Z",
          "shell.execute_reply.started": "2024-08-24T23:34:40.814148Z",
          "shell.execute_reply": "2024-08-24T23:34:41.004866Z"
        },
        "trusted": true,
        "id": "ZYOSH3XA0MYF"
      },
      "execution_count": null,
      "outputs": []
    },
    {
      "cell_type": "code",
      "source": [
        "# Bar charts of top 15 countries by deaths\n",
        "widgets.interactive(\n",
        "    graph_country_bar,\n",
        "    measure=widgets.fixed(\"deaths\"),\n",
        "    date=create_date_slider(\"deaths\"),\n",
        "    is_top_n=True,\n",
        "    hdi_colored=widgets.fixed(False),\n",
        ")"
      ],
      "metadata": {
        "execution": {
          "iopub.status.busy": "2024-08-24T23:34:41.007254Z",
          "iopub.execute_input": "2024-08-24T23:34:41.007610Z",
          "iopub.status.idle": "2024-08-24T23:34:41.206443Z",
          "shell.execute_reply.started": "2024-08-24T23:34:41.007573Z",
          "shell.execute_reply": "2024-08-24T23:34:41.205360Z"
        },
        "trusted": true,
        "id": "y1gl6N_I0MYF"
      },
      "execution_count": null,
      "outputs": []
    },
    {
      "cell_type": "code",
      "source": [
        "# Bar charts of top 15 countries by active\n",
        "widgets.interactive(\n",
        "    graph_country_bar,\n",
        "    measure=widgets.fixed(\"active\"),\n",
        "    date=create_date_slider(\"active\"),\n",
        "    is_top_n=True,\n",
        "    hdi_colored=widgets.fixed(False),\n",
        ")"
      ],
      "metadata": {
        "execution": {
          "iopub.status.busy": "2024-08-24T23:34:41.208757Z",
          "iopub.execute_input": "2024-08-24T23:34:41.209623Z",
          "iopub.status.idle": "2024-08-24T23:34:41.358144Z",
          "shell.execute_reply.started": "2024-08-24T23:34:41.209585Z",
          "shell.execute_reply": "2024-08-24T23:34:41.356972Z"
        },
        "trusted": true,
        "id": "R69qrDtC0MYG"
      },
      "execution_count": null,
      "outputs": []
    },
    {
      "cell_type": "code",
      "source": [
        "# Bar chart of top 15 countries by vaccinations\n",
        "widgets.interactive(\n",
        "    graph_country_bar,\n",
        "    measure=widgets.fixed(\"people_vaccinated\"),\n",
        "    date=create_date_slider(\"people_vaccinated\"),\n",
        "    is_top_n=True,\n",
        "    hdi_colored=widgets.fixed(False),\n",
        ")"
      ],
      "metadata": {
        "execution": {
          "iopub.status.busy": "2024-08-24T23:34:41.359708Z",
          "iopub.execute_input": "2024-08-24T23:34:41.360510Z",
          "iopub.status.idle": "2024-08-24T23:34:41.515816Z",
          "shell.execute_reply.started": "2024-08-24T23:34:41.360456Z",
          "shell.execute_reply": "2024-08-24T23:34:41.514803Z"
        },
        "trusted": true,
        "id": "R6VvjsZk0MYG"
      },
      "execution_count": null,
      "outputs": []
    },
    {
      "cell_type": "code",
      "source": [
        "# Bar charts of top 15 countries by fully vaccinated people\n",
        "widgets.interactive(\n",
        "    graph_country_bar,\n",
        "    measure=widgets.fixed(\"people_fully_vaccinated\"),\n",
        "    date=create_date_slider(\"people_fully_vaccinated\"),\n",
        "    is_top_n=True,\n",
        "    hdi_colored=widgets.fixed(False),\n",
        ")"
      ],
      "metadata": {
        "execution": {
          "iopub.status.busy": "2024-08-24T23:34:41.517268Z",
          "iopub.execute_input": "2024-08-24T23:34:41.517604Z",
          "iopub.status.idle": "2024-08-24T23:34:41.668148Z",
          "shell.execute_reply.started": "2024-08-24T23:34:41.517567Z",
          "shell.execute_reply": "2024-08-24T23:34:41.667034Z"
        },
        "trusted": true,
        "id": "K8gvdIsc0MYG"
      },
      "execution_count": null,
      "outputs": []
    },
    {
      "cell_type": "code",
      "source": [
        "def graph_country_dual(country, measure_y1, measure_y2):\n",
        "    df = df_country[df_country[\"country\"] == country]\n",
        "    df = df[[\"date\", measure_y1, measure_y2]].dropna()\n",
        "\n",
        "    fig = go.Figure()\n",
        "    fig.add_trace(\n",
        "        go.Scatter(\n",
        "            x=df[\"date\"],\n",
        "            y=df[measure_y1],\n",
        "            fill=\"tozeroy\",\n",
        "            mode=\"lines\",\n",
        "            name=f\"{measure_y1}\",\n",
        "            line=dict(color=\"#6f6fe7\"),\n",
        "        )\n",
        "    )\n",
        "    fig.add_trace(\n",
        "        go.Scatter(\n",
        "            x=df[\"date\"],\n",
        "            y=df[measure_y2],\n",
        "            mode=\"lines\",\n",
        "            name=f\"{measure_y2}\",\n",
        "            yaxis=\"y2\",\n",
        "            line=dict(color=\"#d97670\"),\n",
        "        )\n",
        "    )\n",
        "    fig.update_layout(\n",
        "        title=\"Dual-Axis Line Chart\",\n",
        "        xaxis_title=\"date\",\n",
        "        yaxis_title=f\"{measure_y1}\",\n",
        "        yaxis2=dict(title=f\"{measure_y2}\", overlaying=\"y\", side=\"right\"),\n",
        "        xaxis_rangeslider_visible=True,\n",
        "        width=1000,\n",
        "        height=600,\n",
        "    )\n",
        "    fig.show()"
      ],
      "metadata": {
        "execution": {
          "iopub.status.busy": "2024-08-24T23:34:41.669503Z",
          "iopub.execute_input": "2024-08-24T23:34:41.669856Z",
          "iopub.status.idle": "2024-08-24T23:34:41.679217Z",
          "shell.execute_reply.started": "2024-08-24T23:34:41.669817Z",
          "shell.execute_reply": "2024-08-24T23:34:41.678198Z"
        },
        "trusted": true,
        "id": "It5aTxKN0MYG"
      },
      "execution_count": null,
      "outputs": []
    },
    {
      "cell_type": "code",
      "source": [
        "# New cases and stringency index by country\n",
        "widgets.interactive(\n",
        "    graph_country_dual,\n",
        "    country=country_list,\n",
        "    measure_y1=widgets.fixed(\"new_cases_smoothed\"),\n",
        "    measure_y2=widgets.fixed(\"stringency_value\"),\n",
        ")"
      ],
      "metadata": {
        "execution": {
          "iopub.status.busy": "2024-08-24T23:34:41.680823Z",
          "iopub.execute_input": "2024-08-24T23:34:41.681205Z",
          "iopub.status.idle": "2024-08-24T23:34:41.839705Z",
          "shell.execute_reply.started": "2024-08-24T23:34:41.681157Z",
          "shell.execute_reply": "2024-08-24T23:34:41.838650Z"
        },
        "trusted": true,
        "id": "MUcfQpsd0MYG"
      },
      "execution_count": null,
      "outputs": []
    },
    {
      "cell_type": "markdown",
      "source": [
        "### c. Scatterplots:"
      ],
      "metadata": {
        "id": "bXlQzTHM0MYH"
      }
    },
    {
      "cell_type": "code",
      "source": [
        "# Boxplot of hdi distribution\n",
        "def hdi_dist(date):\n",
        "    df = df_country[df_country[\"date\"] == date]\n",
        "    fig = px.box(df, x=\"hdi_value\")\n",
        "    fig.update_layout(width=1000, height=400)\n",
        "    fig.show()\n",
        "\n",
        "\n",
        "widgets.interact(hdi_dist, date=create_date_slider(\"hdi_value\"))"
      ],
      "metadata": {
        "execution": {
          "iopub.status.busy": "2024-08-24T23:34:41.841264Z",
          "iopub.execute_input": "2024-08-24T23:34:41.841716Z",
          "iopub.status.idle": "2024-08-24T23:34:42.146116Z",
          "shell.execute_reply.started": "2024-08-24T23:34:41.841667Z",
          "shell.execute_reply": "2024-08-24T23:34:42.145091Z"
        },
        "trusted": true,
        "id": "R8ueUu3A0MYH"
      },
      "execution_count": null,
      "outputs": []
    },
    {
      "cell_type": "code",
      "source": [
        "def graph_scatter(measure_x, measure_y, date, log_x=False, log_y=False):\n",
        "    df = df_country[df_country[\"date\"] == date]\n",
        "    df = df[df[\"population\"] > 1000000]\n",
        "    df[\"date\"] = df[\"date\"].astype(str)\n",
        "    df[measure_x] = df[measure_x] + 1\n",
        "    df[measure_y] = df[measure_y] + 1\n",
        "\n",
        "    fig = px.scatter(\n",
        "        df,\n",
        "        x=measure_x,\n",
        "        y=measure_y,\n",
        "        trendline=\"ols\",\n",
        "        trendline_options=dict(log_x=log_x, log_y=log_y),\n",
        "        hover_data={\"country\": True, \"date\": True},\n",
        "        log_x=log_x,\n",
        "        log_y=log_y,\n",
        "    )\n",
        "    fig.update_layout(width=1000, height=400)\n",
        "    fig.show()"
      ],
      "metadata": {
        "execution": {
          "iopub.status.busy": "2024-08-24T23:34:42.147460Z",
          "iopub.execute_input": "2024-08-24T23:34:42.147840Z",
          "iopub.status.idle": "2024-08-24T23:34:42.155990Z",
          "shell.execute_reply.started": "2024-08-24T23:34:42.147795Z",
          "shell.execute_reply": "2024-08-24T23:34:42.154739Z"
        },
        "trusted": true,
        "id": "9DA9atcs0MYH"
      },
      "execution_count": null,
      "outputs": []
    },
    {
      "cell_type": "code",
      "source": [
        "# Scatterplot of hdi vs case fatality rate\n",
        "widgets.interactive(\n",
        "    graph_scatter,\n",
        "    measure_x=widgets.fixed(\"hdi_value\"),\n",
        "    measure_y=widgets.fixed(\"case_fatality_rate\"),\n",
        "    date=create_date_slider(\"hdi_value\"),\n",
        "    log_x=widgets.fixed(False),\n",
        "    log_y=widgets.fixed(True),\n",
        ")"
      ],
      "metadata": {
        "execution": {
          "iopub.status.busy": "2024-08-24T23:34:42.157625Z",
          "iopub.execute_input": "2024-08-24T23:34:42.158083Z",
          "iopub.status.idle": "2024-08-24T23:34:43.813450Z",
          "shell.execute_reply.started": "2024-08-24T23:34:42.158032Z",
          "shell.execute_reply": "2024-08-24T23:34:43.812296Z"
        },
        "trusted": true,
        "id": "LR2UlFJm0MYH"
      },
      "execution_count": null,
      "outputs": []
    },
    {
      "cell_type": "code",
      "source": [
        "# Scatterplot of hdi vs infection rate\n",
        "widgets.interactive(\n",
        "    graph_scatter,\n",
        "    measure_x=widgets.fixed(\"hdi_value\"),\n",
        "    measure_y=widgets.fixed(\"infection_rate\"),\n",
        "    date=create_date_slider(\"hdi_value\"),\n",
        "    log_x=widgets.fixed(False),\n",
        "    log_y=widgets.fixed(True),\n",
        ")"
      ],
      "metadata": {
        "execution": {
          "iopub.status.busy": "2024-08-24T23:34:43.814752Z",
          "iopub.execute_input": "2024-08-24T23:34:43.815374Z",
          "iopub.status.idle": "2024-08-24T23:34:44.001265Z",
          "shell.execute_reply.started": "2024-08-24T23:34:43.815333Z",
          "shell.execute_reply": "2024-08-24T23:34:43.999927Z"
        },
        "trusted": true,
        "id": "Lbp5779o0MYH"
      },
      "execution_count": null,
      "outputs": []
    },
    {
      "cell_type": "code",
      "source": [
        "# Scatterplot of population vs infection rate\n",
        "widgets.interactive(\n",
        "    graph_scatter,\n",
        "    measure_x=widgets.fixed(\"population\"),\n",
        "    measure_y=widgets.fixed(\"infection_rate\"),\n",
        "    date=create_date_slider(\"population\"),\n",
        "    log_x=widgets.fixed(True),\n",
        "    log_y=widgets.fixed(True),\n",
        ")"
      ],
      "metadata": {
        "execution": {
          "iopub.status.busy": "2024-08-24T23:34:44.002903Z",
          "iopub.execute_input": "2024-08-24T23:34:44.003824Z",
          "iopub.status.idle": "2024-08-24T23:34:44.186805Z",
          "shell.execute_reply.started": "2024-08-24T23:34:44.003769Z",
          "shell.execute_reply": "2024-08-24T23:34:44.185741Z"
        },
        "trusted": true,
        "id": "bVDRrhGk0MYI"
      },
      "execution_count": null,
      "outputs": []
    },
    {
      "cell_type": "code",
      "source": [
        "# Scatterplot of infection rate vs vaccinations\n",
        "widgets.interactive(\n",
        "    graph_scatter,\n",
        "    measure_x=widgets.fixed(\"people_vaccinated_rate\"),\n",
        "    measure_y=widgets.fixed(\"infection_rate\"),\n",
        "    date=create_date_slider(\"people_vaccinated_rate\"),\n",
        "    log_x=widgets.fixed(False),\n",
        "    log_y=widgets.fixed(True),\n",
        ")"
      ],
      "metadata": {
        "execution": {
          "iopub.status.busy": "2024-08-24T23:34:44.188424Z",
          "iopub.execute_input": "2024-08-24T23:34:44.188805Z",
          "iopub.status.idle": "2024-08-24T23:34:44.332903Z",
          "shell.execute_reply.started": "2024-08-24T23:34:44.188766Z",
          "shell.execute_reply": "2024-08-24T23:34:44.331853Z"
        },
        "trusted": true,
        "id": "4-Ar3qSw0MYI"
      },
      "execution_count": null,
      "outputs": []
    },
    {
      "cell_type": "code",
      "source": [
        "# Scatterplot of infection rate vs vaccinations\n",
        "widgets.interactive(\n",
        "    graph_scatter,\n",
        "    measure_x=widgets.fixed(\"fully_vaccinated_rate\"),\n",
        "    measure_y=widgets.fixed(\"infection_rate\"),\n",
        "    date=create_date_slider(\"fully_vaccinated_rate\"),\n",
        "    log_x=widgets.fixed(False),\n",
        "    log_y=widgets.fixed(True),\n",
        ")"
      ],
      "metadata": {
        "execution": {
          "iopub.status.busy": "2024-08-24T23:34:44.334141Z",
          "iopub.execute_input": "2024-08-24T23:34:44.334458Z",
          "iopub.status.idle": "2024-08-24T23:34:44.478583Z",
          "shell.execute_reply.started": "2024-08-24T23:34:44.334422Z",
          "shell.execute_reply": "2024-08-24T23:34:44.477659Z"
        },
        "trusted": true,
        "id": "T0hbaT0E0MYI"
      },
      "execution_count": null,
      "outputs": []
    },
    {
      "cell_type": "code",
      "source": [],
      "metadata": {
        "id": "cp7s61gA0MYI"
      },
      "execution_count": null,
      "outputs": []
    }
  ]
}